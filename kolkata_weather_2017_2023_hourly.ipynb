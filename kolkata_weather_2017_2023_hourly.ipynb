{
  "nbformat": 4,
  "nbformat_minor": 0,
  "metadata": {
    "colab": {
      "provenance": [],
      "authorship_tag": "ABX9TyPtCzBWxN978INTBN1+uOPH"
    },
    "kernelspec": {
      "name": "python3",
      "display_name": "Python 3"
    },
    "language_info": {
      "name": "python"
    }
  },
  "cells": [
    {
      "cell_type": "code",
      "execution_count": 39,
      "metadata": {
        "colab": {
          "base_uri": "https://localhost:8080/"
        },
        "id": "RNGoTikEP2el",
        "outputId": "a4bbe96a-5c68-4496-a8d1-f278ef1a8540"
      },
      "outputs": [
        {
          "output_type": "stream",
          "name": "stdout",
          "text": [
            "Warning: Your Kaggle API key is readable by other users on this system! To fix this, you can run 'chmod 600 /root/.kaggle/kaggle.json'\n",
            "kolkata-weather-2017-2023-hourly.zip: Skipping, found more recently modified local copy (use --force to force download)\n"
          ]
        }
      ],
      "source": [
        "!mkdir -p ~/.kaggle\n",
        "!cp kaggle.json ~/.kaggle/\n",
        "\n",
        "!kaggle datasets download -d arijithazra007/kolkata-weather-2017-2023-hourly\n",
        "\n",
        "import zipfile\n",
        "zip_ref = zipfile.ZipFile('/content/kolkata-weather-2017-2023-hourly.zip','r')\n",
        "zip_ref.extractall('/content')\n",
        "zip_ref.close()"
      ]
    },
    {
      "cell_type": "code",
      "source": [
        "import pandas as pd\n",
        "import numpy as np\n",
        "import matplotlib.pyplot as plt\n",
        "import seaborn as sns"
      ],
      "metadata": {
        "id": "PtQzl00tQnqW"
      },
      "execution_count": 40,
      "outputs": []
    },
    {
      "cell_type": "code",
      "source": [
        "df = pd.read_csv(\"kolkata2017-2022.csv\")"
      ],
      "metadata": {
        "id": "hY8LN92yQpDQ"
      },
      "execution_count": 41,
      "outputs": []
    },
    {
      "cell_type": "code",
      "source": [
        "pd.set_option('display.max_columns', None)\n",
        "df.head()"
      ],
      "metadata": {
        "colab": {
          "base_uri": "https://localhost:8080/",
          "height": 478
        },
        "id": "2Vodt4bAQpGS",
        "outputId": "640f2e30-f8a0-4f1b-e44a-e813e36eba9d"
      },
      "execution_count": 42,
      "outputs": [
        {
          "output_type": "execute_result",
          "data": {
            "text/plain": [
              "   Unnamed: 0  Address            Date time  Minimum Temperature  \\\n",
              "0           0  kolkata  01/01/2017 00:00:00                 62.6   \n",
              "1           1  kolkata  01/01/2017 01:00:00                 60.8   \n",
              "2           2  kolkata  01/01/2017 02:00:00                 63.1   \n",
              "3           3  kolkata  01/01/2017 03:00:00                 60.8   \n",
              "4           4  kolkata  01/01/2017 04:00:00                 59.0   \n",
              "\n",
              "   Maximum Temperature  Temperature  Dew Point  Relative Humidity  Heat Index  \\\n",
              "0                 62.6         62.6       59.0              88.01         NaN   \n",
              "1                 60.8         60.8       59.0              93.79         NaN   \n",
              "2                 63.1         63.1       60.4              90.99         NaN   \n",
              "3                 60.8         60.8       59.0              93.79         NaN   \n",
              "4                 59.0         59.0       57.2              93.75         NaN   \n",
              "\n",
              "   Wind Speed  Wind Gust  Wind Direction  Wind Chill  Precipitation  \\\n",
              "0         0.0        NaN             0.0         NaN            0.0   \n",
              "1         0.0        NaN             0.0         NaN            0.0   \n",
              "2         0.0        NaN             0.0         NaN            0.0   \n",
              "3         5.8        NaN            20.0         NaN            0.0   \n",
              "4         0.0        NaN             0.0         NaN            0.0   \n",
              "\n",
              "   Precipitation Cover  Snow Depth  Visibility  Cloud Cover  \\\n",
              "0                  NaN         0.0         1.2          0.0   \n",
              "1                  NaN         0.0         1.2          0.0   \n",
              "2                  NaN         0.0         0.6          0.0   \n",
              "3                  NaN         0.0         0.6          0.0   \n",
              "4                  NaN         0.0         1.2          0.0   \n",
              "\n",
              "   Sea Level Pressure Weather Type  Latitude  Longitude    Resolved Address  \\\n",
              "0              1015.0         Mist   22.5705    88.3712  Kolkata, WB, India   \n",
              "1              1015.0         Mist   22.5705    88.3712  Kolkata, WB, India   \n",
              "2              1015.4    Mist, Fog   22.5705    88.3712  Kolkata, WB, India   \n",
              "3              1014.0         Mist   22.5705    88.3712  Kolkata, WB, India   \n",
              "4              1014.0         Mist   22.5705    88.3712  Kolkata, WB, India   \n",
              "\n",
              "                 Name  Info Conditions  \n",
              "0  Kolkata, WB, India   NaN      Clear  \n",
              "1  Kolkata, WB, India   NaN      Clear  \n",
              "2  Kolkata, WB, India   NaN      Clear  \n",
              "3  Kolkata, WB, India   NaN      Clear  \n",
              "4  Kolkata, WB, India   NaN      Clear  "
            ],
            "text/html": [
              "\n",
              "  <div id=\"df-a554c2d6-ee2f-4da4-af48-d810f8c1ddab\">\n",
              "    <div class=\"colab-df-container\">\n",
              "      <div>\n",
              "<style scoped>\n",
              "    .dataframe tbody tr th:only-of-type {\n",
              "        vertical-align: middle;\n",
              "    }\n",
              "\n",
              "    .dataframe tbody tr th {\n",
              "        vertical-align: top;\n",
              "    }\n",
              "\n",
              "    .dataframe thead th {\n",
              "        text-align: right;\n",
              "    }\n",
              "</style>\n",
              "<table border=\"1\" class=\"dataframe\">\n",
              "  <thead>\n",
              "    <tr style=\"text-align: right;\">\n",
              "      <th></th>\n",
              "      <th>Unnamed: 0</th>\n",
              "      <th>Address</th>\n",
              "      <th>Date time</th>\n",
              "      <th>Minimum Temperature</th>\n",
              "      <th>Maximum Temperature</th>\n",
              "      <th>Temperature</th>\n",
              "      <th>Dew Point</th>\n",
              "      <th>Relative Humidity</th>\n",
              "      <th>Heat Index</th>\n",
              "      <th>Wind Speed</th>\n",
              "      <th>Wind Gust</th>\n",
              "      <th>Wind Direction</th>\n",
              "      <th>Wind Chill</th>\n",
              "      <th>Precipitation</th>\n",
              "      <th>Precipitation Cover</th>\n",
              "      <th>Snow Depth</th>\n",
              "      <th>Visibility</th>\n",
              "      <th>Cloud Cover</th>\n",
              "      <th>Sea Level Pressure</th>\n",
              "      <th>Weather Type</th>\n",
              "      <th>Latitude</th>\n",
              "      <th>Longitude</th>\n",
              "      <th>Resolved Address</th>\n",
              "      <th>Name</th>\n",
              "      <th>Info</th>\n",
              "      <th>Conditions</th>\n",
              "    </tr>\n",
              "  </thead>\n",
              "  <tbody>\n",
              "    <tr>\n",
              "      <th>0</th>\n",
              "      <td>0</td>\n",
              "      <td>kolkata</td>\n",
              "      <td>01/01/2017 00:00:00</td>\n",
              "      <td>62.6</td>\n",
              "      <td>62.6</td>\n",
              "      <td>62.6</td>\n",
              "      <td>59.0</td>\n",
              "      <td>88.01</td>\n",
              "      <td>NaN</td>\n",
              "      <td>0.0</td>\n",
              "      <td>NaN</td>\n",
              "      <td>0.0</td>\n",
              "      <td>NaN</td>\n",
              "      <td>0.0</td>\n",
              "      <td>NaN</td>\n",
              "      <td>0.0</td>\n",
              "      <td>1.2</td>\n",
              "      <td>0.0</td>\n",
              "      <td>1015.0</td>\n",
              "      <td>Mist</td>\n",
              "      <td>22.5705</td>\n",
              "      <td>88.3712</td>\n",
              "      <td>Kolkata, WB, India</td>\n",
              "      <td>Kolkata, WB, India</td>\n",
              "      <td>NaN</td>\n",
              "      <td>Clear</td>\n",
              "    </tr>\n",
              "    <tr>\n",
              "      <th>1</th>\n",
              "      <td>1</td>\n",
              "      <td>kolkata</td>\n",
              "      <td>01/01/2017 01:00:00</td>\n",
              "      <td>60.8</td>\n",
              "      <td>60.8</td>\n",
              "      <td>60.8</td>\n",
              "      <td>59.0</td>\n",
              "      <td>93.79</td>\n",
              "      <td>NaN</td>\n",
              "      <td>0.0</td>\n",
              "      <td>NaN</td>\n",
              "      <td>0.0</td>\n",
              "      <td>NaN</td>\n",
              "      <td>0.0</td>\n",
              "      <td>NaN</td>\n",
              "      <td>0.0</td>\n",
              "      <td>1.2</td>\n",
              "      <td>0.0</td>\n",
              "      <td>1015.0</td>\n",
              "      <td>Mist</td>\n",
              "      <td>22.5705</td>\n",
              "      <td>88.3712</td>\n",
              "      <td>Kolkata, WB, India</td>\n",
              "      <td>Kolkata, WB, India</td>\n",
              "      <td>NaN</td>\n",
              "      <td>Clear</td>\n",
              "    </tr>\n",
              "    <tr>\n",
              "      <th>2</th>\n",
              "      <td>2</td>\n",
              "      <td>kolkata</td>\n",
              "      <td>01/01/2017 02:00:00</td>\n",
              "      <td>63.1</td>\n",
              "      <td>63.1</td>\n",
              "      <td>63.1</td>\n",
              "      <td>60.4</td>\n",
              "      <td>90.99</td>\n",
              "      <td>NaN</td>\n",
              "      <td>0.0</td>\n",
              "      <td>NaN</td>\n",
              "      <td>0.0</td>\n",
              "      <td>NaN</td>\n",
              "      <td>0.0</td>\n",
              "      <td>NaN</td>\n",
              "      <td>0.0</td>\n",
              "      <td>0.6</td>\n",
              "      <td>0.0</td>\n",
              "      <td>1015.4</td>\n",
              "      <td>Mist, Fog</td>\n",
              "      <td>22.5705</td>\n",
              "      <td>88.3712</td>\n",
              "      <td>Kolkata, WB, India</td>\n",
              "      <td>Kolkata, WB, India</td>\n",
              "      <td>NaN</td>\n",
              "      <td>Clear</td>\n",
              "    </tr>\n",
              "    <tr>\n",
              "      <th>3</th>\n",
              "      <td>3</td>\n",
              "      <td>kolkata</td>\n",
              "      <td>01/01/2017 03:00:00</td>\n",
              "      <td>60.8</td>\n",
              "      <td>60.8</td>\n",
              "      <td>60.8</td>\n",
              "      <td>59.0</td>\n",
              "      <td>93.79</td>\n",
              "      <td>NaN</td>\n",
              "      <td>5.8</td>\n",
              "      <td>NaN</td>\n",
              "      <td>20.0</td>\n",
              "      <td>NaN</td>\n",
              "      <td>0.0</td>\n",
              "      <td>NaN</td>\n",
              "      <td>0.0</td>\n",
              "      <td>0.6</td>\n",
              "      <td>0.0</td>\n",
              "      <td>1014.0</td>\n",
              "      <td>Mist</td>\n",
              "      <td>22.5705</td>\n",
              "      <td>88.3712</td>\n",
              "      <td>Kolkata, WB, India</td>\n",
              "      <td>Kolkata, WB, India</td>\n",
              "      <td>NaN</td>\n",
              "      <td>Clear</td>\n",
              "    </tr>\n",
              "    <tr>\n",
              "      <th>4</th>\n",
              "      <td>4</td>\n",
              "      <td>kolkata</td>\n",
              "      <td>01/01/2017 04:00:00</td>\n",
              "      <td>59.0</td>\n",
              "      <td>59.0</td>\n",
              "      <td>59.0</td>\n",
              "      <td>57.2</td>\n",
              "      <td>93.75</td>\n",
              "      <td>NaN</td>\n",
              "      <td>0.0</td>\n",
              "      <td>NaN</td>\n",
              "      <td>0.0</td>\n",
              "      <td>NaN</td>\n",
              "      <td>0.0</td>\n",
              "      <td>NaN</td>\n",
              "      <td>0.0</td>\n",
              "      <td>1.2</td>\n",
              "      <td>0.0</td>\n",
              "      <td>1014.0</td>\n",
              "      <td>Mist</td>\n",
              "      <td>22.5705</td>\n",
              "      <td>88.3712</td>\n",
              "      <td>Kolkata, WB, India</td>\n",
              "      <td>Kolkata, WB, India</td>\n",
              "      <td>NaN</td>\n",
              "      <td>Clear</td>\n",
              "    </tr>\n",
              "  </tbody>\n",
              "</table>\n",
              "</div>\n",
              "      <button class=\"colab-df-convert\" onclick=\"convertToInteractive('df-a554c2d6-ee2f-4da4-af48-d810f8c1ddab')\"\n",
              "              title=\"Convert this dataframe to an interactive table.\"\n",
              "              style=\"display:none;\">\n",
              "        \n",
              "  <svg xmlns=\"http://www.w3.org/2000/svg\" height=\"24px\"viewBox=\"0 0 24 24\"\n",
              "       width=\"24px\">\n",
              "    <path d=\"M0 0h24v24H0V0z\" fill=\"none\"/>\n",
              "    <path d=\"M18.56 5.44l.94 2.06.94-2.06 2.06-.94-2.06-.94-.94-2.06-.94 2.06-2.06.94zm-11 1L8.5 8.5l.94-2.06 2.06-.94-2.06-.94L8.5 2.5l-.94 2.06-2.06.94zm10 10l.94 2.06.94-2.06 2.06-.94-2.06-.94-.94-2.06-.94 2.06-2.06.94z\"/><path d=\"M17.41 7.96l-1.37-1.37c-.4-.4-.92-.59-1.43-.59-.52 0-1.04.2-1.43.59L10.3 9.45l-7.72 7.72c-.78.78-.78 2.05 0 2.83L4 21.41c.39.39.9.59 1.41.59.51 0 1.02-.2 1.41-.59l7.78-7.78 2.81-2.81c.8-.78.8-2.07 0-2.86zM5.41 20L4 18.59l7.72-7.72 1.47 1.35L5.41 20z\"/>\n",
              "  </svg>\n",
              "      </button>\n",
              "      \n",
              "  <style>\n",
              "    .colab-df-container {\n",
              "      display:flex;\n",
              "      flex-wrap:wrap;\n",
              "      gap: 12px;\n",
              "    }\n",
              "\n",
              "    .colab-df-convert {\n",
              "      background-color: #E8F0FE;\n",
              "      border: none;\n",
              "      border-radius: 50%;\n",
              "      cursor: pointer;\n",
              "      display: none;\n",
              "      fill: #1967D2;\n",
              "      height: 32px;\n",
              "      padding: 0 0 0 0;\n",
              "      width: 32px;\n",
              "    }\n",
              "\n",
              "    .colab-df-convert:hover {\n",
              "      background-color: #E2EBFA;\n",
              "      box-shadow: 0px 1px 2px rgba(60, 64, 67, 0.3), 0px 1px 3px 1px rgba(60, 64, 67, 0.15);\n",
              "      fill: #174EA6;\n",
              "    }\n",
              "\n",
              "    [theme=dark] .colab-df-convert {\n",
              "      background-color: #3B4455;\n",
              "      fill: #D2E3FC;\n",
              "    }\n",
              "\n",
              "    [theme=dark] .colab-df-convert:hover {\n",
              "      background-color: #434B5C;\n",
              "      box-shadow: 0px 1px 3px 1px rgba(0, 0, 0, 0.15);\n",
              "      filter: drop-shadow(0px 1px 2px rgba(0, 0, 0, 0.3));\n",
              "      fill: #FFFFFF;\n",
              "    }\n",
              "  </style>\n",
              "\n",
              "      <script>\n",
              "        const buttonEl =\n",
              "          document.querySelector('#df-a554c2d6-ee2f-4da4-af48-d810f8c1ddab button.colab-df-convert');\n",
              "        buttonEl.style.display =\n",
              "          google.colab.kernel.accessAllowed ? 'block' : 'none';\n",
              "\n",
              "        async function convertToInteractive(key) {\n",
              "          const element = document.querySelector('#df-a554c2d6-ee2f-4da4-af48-d810f8c1ddab');\n",
              "          const dataTable =\n",
              "            await google.colab.kernel.invokeFunction('convertToInteractive',\n",
              "                                                     [key], {});\n",
              "          if (!dataTable) return;\n",
              "\n",
              "          const docLinkHtml = 'Like what you see? Visit the ' +\n",
              "            '<a target=\"_blank\" href=https://colab.research.google.com/notebooks/data_table.ipynb>data table notebook</a>'\n",
              "            + ' to learn more about interactive tables.';\n",
              "          element.innerHTML = '';\n",
              "          dataTable['output_type'] = 'display_data';\n",
              "          await google.colab.output.renderOutput(dataTable, element);\n",
              "          const docLink = document.createElement('div');\n",
              "          docLink.innerHTML = docLinkHtml;\n",
              "          element.appendChild(docLink);\n",
              "        }\n",
              "      </script>\n",
              "    </div>\n",
              "  </div>\n",
              "  "
            ]
          },
          "metadata": {},
          "execution_count": 42
        }
      ]
    },
    {
      "cell_type": "markdown",
      "source": [
        "#EDA"
      ],
      "metadata": {
        "id": "FAHetdZd4Jkg"
      }
    },
    {
      "cell_type": "code",
      "source": [
        "df.info()"
      ],
      "metadata": {
        "colab": {
          "base_uri": "https://localhost:8080/"
        },
        "id": "TXDbLhhUqMpv",
        "outputId": "723fa726-83d8-403d-c9e1-69b4a7783b5a"
      },
      "execution_count": 43,
      "outputs": [
        {
          "output_type": "stream",
          "name": "stdout",
          "text": [
            "<class 'pandas.core.frame.DataFrame'>\n",
            "RangeIndex: 52700 entries, 0 to 52699\n",
            "Data columns (total 26 columns):\n",
            " #   Column               Non-Null Count  Dtype  \n",
            "---  ------               --------------  -----  \n",
            " 0   Unnamed: 0           52700 non-null  int64  \n",
            " 1   Address              52700 non-null  object \n",
            " 2   Date time            52700 non-null  object \n",
            " 3   Minimum Temperature  52582 non-null  float64\n",
            " 4   Maximum Temperature  52582 non-null  float64\n",
            " 5   Temperature          52582 non-null  float64\n",
            " 6   Dew Point            52582 non-null  float64\n",
            " 7   Relative Humidity    52582 non-null  float64\n",
            " 8   Heat Index           31914 non-null  float64\n",
            " 9   Wind Speed           52569 non-null  float64\n",
            " 10  Wind Gust            174 non-null    float64\n",
            " 11  Wind Direction       52110 non-null  float64\n",
            " 12  Wind Chill           23 non-null     float64\n",
            " 13  Precipitation        52700 non-null  float64\n",
            " 14  Precipitation Cover  0 non-null      float64\n",
            " 15  Snow Depth           44213 non-null  float64\n",
            " 16  Visibility           52582 non-null  float64\n",
            " 17  Cloud Cover          51823 non-null  float64\n",
            " 18  Sea Level Pressure   52292 non-null  float64\n",
            " 19  Weather Type         52041 non-null  object \n",
            " 20  Latitude             52700 non-null  float64\n",
            " 21  Longitude            52700 non-null  float64\n",
            " 22  Resolved Address     52700 non-null  object \n",
            " 23  Name                 52700 non-null  object \n",
            " 24  Info                 0 non-null      float64\n",
            " 25  Conditions           52582 non-null  object \n",
            "dtypes: float64(19), int64(1), object(6)\n",
            "memory usage: 10.5+ MB\n"
          ]
        }
      ]
    },
    {
      "cell_type": "code",
      "source": [
        "df.isnull().sum()"
      ],
      "metadata": {
        "colab": {
          "base_uri": "https://localhost:8080/"
        },
        "id": "BFxfw3Fgbn6i",
        "outputId": "65f05b17-0503-47b1-9813-f1e0f346bd09"
      },
      "execution_count": 44,
      "outputs": [
        {
          "output_type": "execute_result",
          "data": {
            "text/plain": [
              "Unnamed: 0                 0\n",
              "Address                    0\n",
              "Date time                  0\n",
              "Minimum Temperature      118\n",
              "Maximum Temperature      118\n",
              "Temperature              118\n",
              "Dew Point                118\n",
              "Relative Humidity        118\n",
              "Heat Index             20786\n",
              "Wind Speed               131\n",
              "Wind Gust              52526\n",
              "Wind Direction           590\n",
              "Wind Chill             52677\n",
              "Precipitation              0\n",
              "Precipitation Cover    52700\n",
              "Snow Depth              8487\n",
              "Visibility               118\n",
              "Cloud Cover              877\n",
              "Sea Level Pressure       408\n",
              "Weather Type             659\n",
              "Latitude                   0\n",
              "Longitude                  0\n",
              "Resolved Address           0\n",
              "Name                       0\n",
              "Info                   52700\n",
              "Conditions               118\n",
              "dtype: int64"
            ]
          },
          "metadata": {},
          "execution_count": 44
        }
      ]
    },
    {
      "cell_type": "code",
      "source": [
        "df.isnull().mean()*100"
      ],
      "metadata": {
        "colab": {
          "base_uri": "https://localhost:8080/"
        },
        "id": "UCYwz68obq2z",
        "outputId": "40cc312d-2608-477c-f9fd-07c3aedf8b1e"
      },
      "execution_count": 45,
      "outputs": [
        {
          "output_type": "execute_result",
          "data": {
            "text/plain": [
              "Unnamed: 0               0.000000\n",
              "Address                  0.000000\n",
              "Date time                0.000000\n",
              "Minimum Temperature      0.223909\n",
              "Maximum Temperature      0.223909\n",
              "Temperature              0.223909\n",
              "Dew Point                0.223909\n",
              "Relative Humidity        0.223909\n",
              "Heat Index              39.442125\n",
              "Wind Speed               0.248577\n",
              "Wind Gust               99.669829\n",
              "Wind Direction           1.119545\n",
              "Wind Chill              99.956357\n",
              "Precipitation            0.000000\n",
              "Precipitation Cover    100.000000\n",
              "Snow Depth              16.104364\n",
              "Visibility               0.223909\n",
              "Cloud Cover              1.664137\n",
              "Sea Level Pressure       0.774194\n",
              "Weather Type             1.250474\n",
              "Latitude                 0.000000\n",
              "Longitude                0.000000\n",
              "Resolved Address         0.000000\n",
              "Name                     0.000000\n",
              "Info                   100.000000\n",
              "Conditions               0.223909\n",
              "dtype: float64"
            ]
          },
          "metadata": {},
          "execution_count": 45
        }
      ]
    },
    {
      "cell_type": "code",
      "source": [
        "df = df.drop(['Unnamed: 0', 'Wind Gust', 'Wind Chill', 'Precipitation Cover', 'Info'], axis=1)"
      ],
      "metadata": {
        "id": "vH6J3ERIbr0D"
      },
      "execution_count": 46,
      "outputs": []
    },
    {
      "cell_type": "code",
      "source": [
        "df.head()"
      ],
      "metadata": {
        "colab": {
          "base_uri": "https://localhost:8080/",
          "height": 478
        },
        "id": "5OmnUpxPbr2h",
        "outputId": "2f62aae5-cb39-4479-ce12-d4c6354edd47"
      },
      "execution_count": 47,
      "outputs": [
        {
          "output_type": "execute_result",
          "data": {
            "text/plain": [
              "   Address            Date time  Minimum Temperature  Maximum Temperature  \\\n",
              "0  kolkata  01/01/2017 00:00:00                 62.6                 62.6   \n",
              "1  kolkata  01/01/2017 01:00:00                 60.8                 60.8   \n",
              "2  kolkata  01/01/2017 02:00:00                 63.1                 63.1   \n",
              "3  kolkata  01/01/2017 03:00:00                 60.8                 60.8   \n",
              "4  kolkata  01/01/2017 04:00:00                 59.0                 59.0   \n",
              "\n",
              "   Temperature  Dew Point  Relative Humidity  Heat Index  Wind Speed  \\\n",
              "0         62.6       59.0              88.01         NaN         0.0   \n",
              "1         60.8       59.0              93.79         NaN         0.0   \n",
              "2         63.1       60.4              90.99         NaN         0.0   \n",
              "3         60.8       59.0              93.79         NaN         5.8   \n",
              "4         59.0       57.2              93.75         NaN         0.0   \n",
              "\n",
              "   Wind Direction  Precipitation  Snow Depth  Visibility  Cloud Cover  \\\n",
              "0             0.0            0.0         0.0         1.2          0.0   \n",
              "1             0.0            0.0         0.0         1.2          0.0   \n",
              "2             0.0            0.0         0.0         0.6          0.0   \n",
              "3            20.0            0.0         0.0         0.6          0.0   \n",
              "4             0.0            0.0         0.0         1.2          0.0   \n",
              "\n",
              "   Sea Level Pressure Weather Type  Latitude  Longitude    Resolved Address  \\\n",
              "0              1015.0         Mist   22.5705    88.3712  Kolkata, WB, India   \n",
              "1              1015.0         Mist   22.5705    88.3712  Kolkata, WB, India   \n",
              "2              1015.4    Mist, Fog   22.5705    88.3712  Kolkata, WB, India   \n",
              "3              1014.0         Mist   22.5705    88.3712  Kolkata, WB, India   \n",
              "4              1014.0         Mist   22.5705    88.3712  Kolkata, WB, India   \n",
              "\n",
              "                 Name Conditions  \n",
              "0  Kolkata, WB, India      Clear  \n",
              "1  Kolkata, WB, India      Clear  \n",
              "2  Kolkata, WB, India      Clear  \n",
              "3  Kolkata, WB, India      Clear  \n",
              "4  Kolkata, WB, India      Clear  "
            ],
            "text/html": [
              "\n",
              "  <div id=\"df-6e2089f0-4e65-40eb-8c37-a8fc1d6564d4\">\n",
              "    <div class=\"colab-df-container\">\n",
              "      <div>\n",
              "<style scoped>\n",
              "    .dataframe tbody tr th:only-of-type {\n",
              "        vertical-align: middle;\n",
              "    }\n",
              "\n",
              "    .dataframe tbody tr th {\n",
              "        vertical-align: top;\n",
              "    }\n",
              "\n",
              "    .dataframe thead th {\n",
              "        text-align: right;\n",
              "    }\n",
              "</style>\n",
              "<table border=\"1\" class=\"dataframe\">\n",
              "  <thead>\n",
              "    <tr style=\"text-align: right;\">\n",
              "      <th></th>\n",
              "      <th>Address</th>\n",
              "      <th>Date time</th>\n",
              "      <th>Minimum Temperature</th>\n",
              "      <th>Maximum Temperature</th>\n",
              "      <th>Temperature</th>\n",
              "      <th>Dew Point</th>\n",
              "      <th>Relative Humidity</th>\n",
              "      <th>Heat Index</th>\n",
              "      <th>Wind Speed</th>\n",
              "      <th>Wind Direction</th>\n",
              "      <th>Precipitation</th>\n",
              "      <th>Snow Depth</th>\n",
              "      <th>Visibility</th>\n",
              "      <th>Cloud Cover</th>\n",
              "      <th>Sea Level Pressure</th>\n",
              "      <th>Weather Type</th>\n",
              "      <th>Latitude</th>\n",
              "      <th>Longitude</th>\n",
              "      <th>Resolved Address</th>\n",
              "      <th>Name</th>\n",
              "      <th>Conditions</th>\n",
              "    </tr>\n",
              "  </thead>\n",
              "  <tbody>\n",
              "    <tr>\n",
              "      <th>0</th>\n",
              "      <td>kolkata</td>\n",
              "      <td>01/01/2017 00:00:00</td>\n",
              "      <td>62.6</td>\n",
              "      <td>62.6</td>\n",
              "      <td>62.6</td>\n",
              "      <td>59.0</td>\n",
              "      <td>88.01</td>\n",
              "      <td>NaN</td>\n",
              "      <td>0.0</td>\n",
              "      <td>0.0</td>\n",
              "      <td>0.0</td>\n",
              "      <td>0.0</td>\n",
              "      <td>1.2</td>\n",
              "      <td>0.0</td>\n",
              "      <td>1015.0</td>\n",
              "      <td>Mist</td>\n",
              "      <td>22.5705</td>\n",
              "      <td>88.3712</td>\n",
              "      <td>Kolkata, WB, India</td>\n",
              "      <td>Kolkata, WB, India</td>\n",
              "      <td>Clear</td>\n",
              "    </tr>\n",
              "    <tr>\n",
              "      <th>1</th>\n",
              "      <td>kolkata</td>\n",
              "      <td>01/01/2017 01:00:00</td>\n",
              "      <td>60.8</td>\n",
              "      <td>60.8</td>\n",
              "      <td>60.8</td>\n",
              "      <td>59.0</td>\n",
              "      <td>93.79</td>\n",
              "      <td>NaN</td>\n",
              "      <td>0.0</td>\n",
              "      <td>0.0</td>\n",
              "      <td>0.0</td>\n",
              "      <td>0.0</td>\n",
              "      <td>1.2</td>\n",
              "      <td>0.0</td>\n",
              "      <td>1015.0</td>\n",
              "      <td>Mist</td>\n",
              "      <td>22.5705</td>\n",
              "      <td>88.3712</td>\n",
              "      <td>Kolkata, WB, India</td>\n",
              "      <td>Kolkata, WB, India</td>\n",
              "      <td>Clear</td>\n",
              "    </tr>\n",
              "    <tr>\n",
              "      <th>2</th>\n",
              "      <td>kolkata</td>\n",
              "      <td>01/01/2017 02:00:00</td>\n",
              "      <td>63.1</td>\n",
              "      <td>63.1</td>\n",
              "      <td>63.1</td>\n",
              "      <td>60.4</td>\n",
              "      <td>90.99</td>\n",
              "      <td>NaN</td>\n",
              "      <td>0.0</td>\n",
              "      <td>0.0</td>\n",
              "      <td>0.0</td>\n",
              "      <td>0.0</td>\n",
              "      <td>0.6</td>\n",
              "      <td>0.0</td>\n",
              "      <td>1015.4</td>\n",
              "      <td>Mist, Fog</td>\n",
              "      <td>22.5705</td>\n",
              "      <td>88.3712</td>\n",
              "      <td>Kolkata, WB, India</td>\n",
              "      <td>Kolkata, WB, India</td>\n",
              "      <td>Clear</td>\n",
              "    </tr>\n",
              "    <tr>\n",
              "      <th>3</th>\n",
              "      <td>kolkata</td>\n",
              "      <td>01/01/2017 03:00:00</td>\n",
              "      <td>60.8</td>\n",
              "      <td>60.8</td>\n",
              "      <td>60.8</td>\n",
              "      <td>59.0</td>\n",
              "      <td>93.79</td>\n",
              "      <td>NaN</td>\n",
              "      <td>5.8</td>\n",
              "      <td>20.0</td>\n",
              "      <td>0.0</td>\n",
              "      <td>0.0</td>\n",
              "      <td>0.6</td>\n",
              "      <td>0.0</td>\n",
              "      <td>1014.0</td>\n",
              "      <td>Mist</td>\n",
              "      <td>22.5705</td>\n",
              "      <td>88.3712</td>\n",
              "      <td>Kolkata, WB, India</td>\n",
              "      <td>Kolkata, WB, India</td>\n",
              "      <td>Clear</td>\n",
              "    </tr>\n",
              "    <tr>\n",
              "      <th>4</th>\n",
              "      <td>kolkata</td>\n",
              "      <td>01/01/2017 04:00:00</td>\n",
              "      <td>59.0</td>\n",
              "      <td>59.0</td>\n",
              "      <td>59.0</td>\n",
              "      <td>57.2</td>\n",
              "      <td>93.75</td>\n",
              "      <td>NaN</td>\n",
              "      <td>0.0</td>\n",
              "      <td>0.0</td>\n",
              "      <td>0.0</td>\n",
              "      <td>0.0</td>\n",
              "      <td>1.2</td>\n",
              "      <td>0.0</td>\n",
              "      <td>1014.0</td>\n",
              "      <td>Mist</td>\n",
              "      <td>22.5705</td>\n",
              "      <td>88.3712</td>\n",
              "      <td>Kolkata, WB, India</td>\n",
              "      <td>Kolkata, WB, India</td>\n",
              "      <td>Clear</td>\n",
              "    </tr>\n",
              "  </tbody>\n",
              "</table>\n",
              "</div>\n",
              "      <button class=\"colab-df-convert\" onclick=\"convertToInteractive('df-6e2089f0-4e65-40eb-8c37-a8fc1d6564d4')\"\n",
              "              title=\"Convert this dataframe to an interactive table.\"\n",
              "              style=\"display:none;\">\n",
              "        \n",
              "  <svg xmlns=\"http://www.w3.org/2000/svg\" height=\"24px\"viewBox=\"0 0 24 24\"\n",
              "       width=\"24px\">\n",
              "    <path d=\"M0 0h24v24H0V0z\" fill=\"none\"/>\n",
              "    <path d=\"M18.56 5.44l.94 2.06.94-2.06 2.06-.94-2.06-.94-.94-2.06-.94 2.06-2.06.94zm-11 1L8.5 8.5l.94-2.06 2.06-.94-2.06-.94L8.5 2.5l-.94 2.06-2.06.94zm10 10l.94 2.06.94-2.06 2.06-.94-2.06-.94-.94-2.06-.94 2.06-2.06.94z\"/><path d=\"M17.41 7.96l-1.37-1.37c-.4-.4-.92-.59-1.43-.59-.52 0-1.04.2-1.43.59L10.3 9.45l-7.72 7.72c-.78.78-.78 2.05 0 2.83L4 21.41c.39.39.9.59 1.41.59.51 0 1.02-.2 1.41-.59l7.78-7.78 2.81-2.81c.8-.78.8-2.07 0-2.86zM5.41 20L4 18.59l7.72-7.72 1.47 1.35L5.41 20z\"/>\n",
              "  </svg>\n",
              "      </button>\n",
              "      \n",
              "  <style>\n",
              "    .colab-df-container {\n",
              "      display:flex;\n",
              "      flex-wrap:wrap;\n",
              "      gap: 12px;\n",
              "    }\n",
              "\n",
              "    .colab-df-convert {\n",
              "      background-color: #E8F0FE;\n",
              "      border: none;\n",
              "      border-radius: 50%;\n",
              "      cursor: pointer;\n",
              "      display: none;\n",
              "      fill: #1967D2;\n",
              "      height: 32px;\n",
              "      padding: 0 0 0 0;\n",
              "      width: 32px;\n",
              "    }\n",
              "\n",
              "    .colab-df-convert:hover {\n",
              "      background-color: #E2EBFA;\n",
              "      box-shadow: 0px 1px 2px rgba(60, 64, 67, 0.3), 0px 1px 3px 1px rgba(60, 64, 67, 0.15);\n",
              "      fill: #174EA6;\n",
              "    }\n",
              "\n",
              "    [theme=dark] .colab-df-convert {\n",
              "      background-color: #3B4455;\n",
              "      fill: #D2E3FC;\n",
              "    }\n",
              "\n",
              "    [theme=dark] .colab-df-convert:hover {\n",
              "      background-color: #434B5C;\n",
              "      box-shadow: 0px 1px 3px 1px rgba(0, 0, 0, 0.15);\n",
              "      filter: drop-shadow(0px 1px 2px rgba(0, 0, 0, 0.3));\n",
              "      fill: #FFFFFF;\n",
              "    }\n",
              "  </style>\n",
              "\n",
              "      <script>\n",
              "        const buttonEl =\n",
              "          document.querySelector('#df-6e2089f0-4e65-40eb-8c37-a8fc1d6564d4 button.colab-df-convert');\n",
              "        buttonEl.style.display =\n",
              "          google.colab.kernel.accessAllowed ? 'block' : 'none';\n",
              "\n",
              "        async function convertToInteractive(key) {\n",
              "          const element = document.querySelector('#df-6e2089f0-4e65-40eb-8c37-a8fc1d6564d4');\n",
              "          const dataTable =\n",
              "            await google.colab.kernel.invokeFunction('convertToInteractive',\n",
              "                                                     [key], {});\n",
              "          if (!dataTable) return;\n",
              "\n",
              "          const docLinkHtml = 'Like what you see? Visit the ' +\n",
              "            '<a target=\"_blank\" href=https://colab.research.google.com/notebooks/data_table.ipynb>data table notebook</a>'\n",
              "            + ' to learn more about interactive tables.';\n",
              "          element.innerHTML = '';\n",
              "          dataTable['output_type'] = 'display_data';\n",
              "          await google.colab.output.renderOutput(dataTable, element);\n",
              "          const docLink = document.createElement('div');\n",
              "          docLink.innerHTML = docLinkHtml;\n",
              "          element.appendChild(docLink);\n",
              "        }\n",
              "      </script>\n",
              "    </div>\n",
              "  </div>\n",
              "  "
            ]
          },
          "metadata": {},
          "execution_count": 47
        }
      ]
    },
    {
      "cell_type": "code",
      "source": [
        "from sklearn.model_selection import train_test_split"
      ],
      "metadata": {
        "id": "3Za8wbQFF67a"
      },
      "execution_count": 48,
      "outputs": []
    },
    {
      "cell_type": "code",
      "source": [
        "df['Month'] = df['Date time'].map(lambda x : int(x.split(\" \")[0].split(\"/\")[0]))"
      ],
      "metadata": {
        "id": "JneDbNyaRfIe"
      },
      "execution_count": 49,
      "outputs": []
    },
    {
      "cell_type": "code",
      "source": [
        "df['Month'].value_counts()"
      ],
      "metadata": {
        "colab": {
          "base_uri": "https://localhost:8080/"
        },
        "id": "htqvGWgYSSiR",
        "outputId": "30276a4e-b7d7-4f61-80ce-d6a1a0e93c9a"
      },
      "execution_count": 50,
      "outputs": [
        {
          "output_type": "execute_result",
          "data": {
            "text/plain": [
              "7     4475\n",
              "12    4475\n",
              "1     4474\n",
              "5     4474\n",
              "3     4473\n",
              "10    4473\n",
              "8     4472\n",
              "9     4331\n",
              "4     4330\n",
              "6     4329\n",
              "11    4329\n",
              "2     4065\n",
              "Name: Month, dtype: int64"
            ]
          },
          "metadata": {},
          "execution_count": 50
        }
      ]
    },
    {
      "cell_type": "code",
      "source": [
        "df['Hour'] = df['Date time'].map(lambda x : int(x.split(\" \")[1].split(\":\")[0]))"
      ],
      "metadata": {
        "id": "2OcWWFW0SXRo"
      },
      "execution_count": 51,
      "outputs": []
    },
    {
      "cell_type": "code",
      "source": [
        "df['Hour'].value_counts()"
      ],
      "metadata": {
        "colab": {
          "base_uri": "https://localhost:8080/"
        },
        "id": "Zmx4JAVqSjZI",
        "outputId": "4ee3c207-a878-4cb8-ff3b-e1622b03346c"
      },
      "execution_count": 52,
      "outputs": [
        {
          "output_type": "execute_result",
          "data": {
            "text/plain": [
              "0     2307\n",
              "1     2191\n",
              "22    2191\n",
              "21    2191\n",
              "20    2191\n",
              "19    2191\n",
              "18    2191\n",
              "17    2191\n",
              "16    2191\n",
              "15    2191\n",
              "14    2191\n",
              "13    2191\n",
              "12    2191\n",
              "11    2191\n",
              "10    2191\n",
              "9     2191\n",
              "8     2191\n",
              "7     2191\n",
              "6     2191\n",
              "5     2191\n",
              "4     2191\n",
              "3     2191\n",
              "2     2191\n",
              "23    2191\n",
              "Name: Hour, dtype: int64"
            ]
          },
          "metadata": {},
          "execution_count": 52
        }
      ]
    },
    {
      "cell_type": "code",
      "source": [
        "df = df.drop(\"Date time\", axis=1)"
      ],
      "metadata": {
        "id": "Tbu5sHL-SmPa"
      },
      "execution_count": 53,
      "outputs": []
    },
    {
      "cell_type": "code",
      "source": [
        "df.isnull().mean()*100"
      ],
      "metadata": {
        "colab": {
          "base_uri": "https://localhost:8080/"
        },
        "id": "XwnO-XCvSr1Q",
        "outputId": "4728613f-9580-4b91-d3a5-0b745979c8bf"
      },
      "execution_count": 54,
      "outputs": [
        {
          "output_type": "execute_result",
          "data": {
            "text/plain": [
              "Address                 0.000000\n",
              "Minimum Temperature     0.223909\n",
              "Maximum Temperature     0.223909\n",
              "Temperature             0.223909\n",
              "Dew Point               0.223909\n",
              "Relative Humidity       0.223909\n",
              "Heat Index             39.442125\n",
              "Wind Speed              0.248577\n",
              "Wind Direction          1.119545\n",
              "Precipitation           0.000000\n",
              "Snow Depth             16.104364\n",
              "Visibility              0.223909\n",
              "Cloud Cover             1.664137\n",
              "Sea Level Pressure      0.774194\n",
              "Weather Type            1.250474\n",
              "Latitude                0.000000\n",
              "Longitude               0.000000\n",
              "Resolved Address        0.000000\n",
              "Name                    0.000000\n",
              "Conditions              0.223909\n",
              "Month                   0.000000\n",
              "Hour                    0.000000\n",
              "dtype: float64"
            ]
          },
          "metadata": {},
          "execution_count": 54
        }
      ]
    },
    {
      "cell_type": "code",
      "source": [
        "df.head()"
      ],
      "metadata": {
        "colab": {
          "base_uri": "https://localhost:8080/",
          "height": 478
        },
        "id": "jbh-UtjyJS4u",
        "outputId": "a8e36467-28a1-440e-9f5c-a416ff825444"
      },
      "execution_count": 55,
      "outputs": [
        {
          "output_type": "execute_result",
          "data": {
            "text/plain": [
              "   Address  Minimum Temperature  Maximum Temperature  Temperature  Dew Point  \\\n",
              "0  kolkata                 62.6                 62.6         62.6       59.0   \n",
              "1  kolkata                 60.8                 60.8         60.8       59.0   \n",
              "2  kolkata                 63.1                 63.1         63.1       60.4   \n",
              "3  kolkata                 60.8                 60.8         60.8       59.0   \n",
              "4  kolkata                 59.0                 59.0         59.0       57.2   \n",
              "\n",
              "   Relative Humidity  Heat Index  Wind Speed  Wind Direction  Precipitation  \\\n",
              "0              88.01         NaN         0.0             0.0            0.0   \n",
              "1              93.79         NaN         0.0             0.0            0.0   \n",
              "2              90.99         NaN         0.0             0.0            0.0   \n",
              "3              93.79         NaN         5.8            20.0            0.0   \n",
              "4              93.75         NaN         0.0             0.0            0.0   \n",
              "\n",
              "   Snow Depth  Visibility  Cloud Cover  Sea Level Pressure Weather Type  \\\n",
              "0         0.0         1.2          0.0              1015.0         Mist   \n",
              "1         0.0         1.2          0.0              1015.0         Mist   \n",
              "2         0.0         0.6          0.0              1015.4    Mist, Fog   \n",
              "3         0.0         0.6          0.0              1014.0         Mist   \n",
              "4         0.0         1.2          0.0              1014.0         Mist   \n",
              "\n",
              "   Latitude  Longitude    Resolved Address                Name Conditions  \\\n",
              "0   22.5705    88.3712  Kolkata, WB, India  Kolkata, WB, India      Clear   \n",
              "1   22.5705    88.3712  Kolkata, WB, India  Kolkata, WB, India      Clear   \n",
              "2   22.5705    88.3712  Kolkata, WB, India  Kolkata, WB, India      Clear   \n",
              "3   22.5705    88.3712  Kolkata, WB, India  Kolkata, WB, India      Clear   \n",
              "4   22.5705    88.3712  Kolkata, WB, India  Kolkata, WB, India      Clear   \n",
              "\n",
              "   Month  Hour  \n",
              "0      1     0  \n",
              "1      1     1  \n",
              "2      1     2  \n",
              "3      1     3  \n",
              "4      1     4  "
            ],
            "text/html": [
              "\n",
              "  <div id=\"df-5590cbe0-9779-4e91-974f-296b6638f703\">\n",
              "    <div class=\"colab-df-container\">\n",
              "      <div>\n",
              "<style scoped>\n",
              "    .dataframe tbody tr th:only-of-type {\n",
              "        vertical-align: middle;\n",
              "    }\n",
              "\n",
              "    .dataframe tbody tr th {\n",
              "        vertical-align: top;\n",
              "    }\n",
              "\n",
              "    .dataframe thead th {\n",
              "        text-align: right;\n",
              "    }\n",
              "</style>\n",
              "<table border=\"1\" class=\"dataframe\">\n",
              "  <thead>\n",
              "    <tr style=\"text-align: right;\">\n",
              "      <th></th>\n",
              "      <th>Address</th>\n",
              "      <th>Minimum Temperature</th>\n",
              "      <th>Maximum Temperature</th>\n",
              "      <th>Temperature</th>\n",
              "      <th>Dew Point</th>\n",
              "      <th>Relative Humidity</th>\n",
              "      <th>Heat Index</th>\n",
              "      <th>Wind Speed</th>\n",
              "      <th>Wind Direction</th>\n",
              "      <th>Precipitation</th>\n",
              "      <th>Snow Depth</th>\n",
              "      <th>Visibility</th>\n",
              "      <th>Cloud Cover</th>\n",
              "      <th>Sea Level Pressure</th>\n",
              "      <th>Weather Type</th>\n",
              "      <th>Latitude</th>\n",
              "      <th>Longitude</th>\n",
              "      <th>Resolved Address</th>\n",
              "      <th>Name</th>\n",
              "      <th>Conditions</th>\n",
              "      <th>Month</th>\n",
              "      <th>Hour</th>\n",
              "    </tr>\n",
              "  </thead>\n",
              "  <tbody>\n",
              "    <tr>\n",
              "      <th>0</th>\n",
              "      <td>kolkata</td>\n",
              "      <td>62.6</td>\n",
              "      <td>62.6</td>\n",
              "      <td>62.6</td>\n",
              "      <td>59.0</td>\n",
              "      <td>88.01</td>\n",
              "      <td>NaN</td>\n",
              "      <td>0.0</td>\n",
              "      <td>0.0</td>\n",
              "      <td>0.0</td>\n",
              "      <td>0.0</td>\n",
              "      <td>1.2</td>\n",
              "      <td>0.0</td>\n",
              "      <td>1015.0</td>\n",
              "      <td>Mist</td>\n",
              "      <td>22.5705</td>\n",
              "      <td>88.3712</td>\n",
              "      <td>Kolkata, WB, India</td>\n",
              "      <td>Kolkata, WB, India</td>\n",
              "      <td>Clear</td>\n",
              "      <td>1</td>\n",
              "      <td>0</td>\n",
              "    </tr>\n",
              "    <tr>\n",
              "      <th>1</th>\n",
              "      <td>kolkata</td>\n",
              "      <td>60.8</td>\n",
              "      <td>60.8</td>\n",
              "      <td>60.8</td>\n",
              "      <td>59.0</td>\n",
              "      <td>93.79</td>\n",
              "      <td>NaN</td>\n",
              "      <td>0.0</td>\n",
              "      <td>0.0</td>\n",
              "      <td>0.0</td>\n",
              "      <td>0.0</td>\n",
              "      <td>1.2</td>\n",
              "      <td>0.0</td>\n",
              "      <td>1015.0</td>\n",
              "      <td>Mist</td>\n",
              "      <td>22.5705</td>\n",
              "      <td>88.3712</td>\n",
              "      <td>Kolkata, WB, India</td>\n",
              "      <td>Kolkata, WB, India</td>\n",
              "      <td>Clear</td>\n",
              "      <td>1</td>\n",
              "      <td>1</td>\n",
              "    </tr>\n",
              "    <tr>\n",
              "      <th>2</th>\n",
              "      <td>kolkata</td>\n",
              "      <td>63.1</td>\n",
              "      <td>63.1</td>\n",
              "      <td>63.1</td>\n",
              "      <td>60.4</td>\n",
              "      <td>90.99</td>\n",
              "      <td>NaN</td>\n",
              "      <td>0.0</td>\n",
              "      <td>0.0</td>\n",
              "      <td>0.0</td>\n",
              "      <td>0.0</td>\n",
              "      <td>0.6</td>\n",
              "      <td>0.0</td>\n",
              "      <td>1015.4</td>\n",
              "      <td>Mist, Fog</td>\n",
              "      <td>22.5705</td>\n",
              "      <td>88.3712</td>\n",
              "      <td>Kolkata, WB, India</td>\n",
              "      <td>Kolkata, WB, India</td>\n",
              "      <td>Clear</td>\n",
              "      <td>1</td>\n",
              "      <td>2</td>\n",
              "    </tr>\n",
              "    <tr>\n",
              "      <th>3</th>\n",
              "      <td>kolkata</td>\n",
              "      <td>60.8</td>\n",
              "      <td>60.8</td>\n",
              "      <td>60.8</td>\n",
              "      <td>59.0</td>\n",
              "      <td>93.79</td>\n",
              "      <td>NaN</td>\n",
              "      <td>5.8</td>\n",
              "      <td>20.0</td>\n",
              "      <td>0.0</td>\n",
              "      <td>0.0</td>\n",
              "      <td>0.6</td>\n",
              "      <td>0.0</td>\n",
              "      <td>1014.0</td>\n",
              "      <td>Mist</td>\n",
              "      <td>22.5705</td>\n",
              "      <td>88.3712</td>\n",
              "      <td>Kolkata, WB, India</td>\n",
              "      <td>Kolkata, WB, India</td>\n",
              "      <td>Clear</td>\n",
              "      <td>1</td>\n",
              "      <td>3</td>\n",
              "    </tr>\n",
              "    <tr>\n",
              "      <th>4</th>\n",
              "      <td>kolkata</td>\n",
              "      <td>59.0</td>\n",
              "      <td>59.0</td>\n",
              "      <td>59.0</td>\n",
              "      <td>57.2</td>\n",
              "      <td>93.75</td>\n",
              "      <td>NaN</td>\n",
              "      <td>0.0</td>\n",
              "      <td>0.0</td>\n",
              "      <td>0.0</td>\n",
              "      <td>0.0</td>\n",
              "      <td>1.2</td>\n",
              "      <td>0.0</td>\n",
              "      <td>1014.0</td>\n",
              "      <td>Mist</td>\n",
              "      <td>22.5705</td>\n",
              "      <td>88.3712</td>\n",
              "      <td>Kolkata, WB, India</td>\n",
              "      <td>Kolkata, WB, India</td>\n",
              "      <td>Clear</td>\n",
              "      <td>1</td>\n",
              "      <td>4</td>\n",
              "    </tr>\n",
              "  </tbody>\n",
              "</table>\n",
              "</div>\n",
              "      <button class=\"colab-df-convert\" onclick=\"convertToInteractive('df-5590cbe0-9779-4e91-974f-296b6638f703')\"\n",
              "              title=\"Convert this dataframe to an interactive table.\"\n",
              "              style=\"display:none;\">\n",
              "        \n",
              "  <svg xmlns=\"http://www.w3.org/2000/svg\" height=\"24px\"viewBox=\"0 0 24 24\"\n",
              "       width=\"24px\">\n",
              "    <path d=\"M0 0h24v24H0V0z\" fill=\"none\"/>\n",
              "    <path d=\"M18.56 5.44l.94 2.06.94-2.06 2.06-.94-2.06-.94-.94-2.06-.94 2.06-2.06.94zm-11 1L8.5 8.5l.94-2.06 2.06-.94-2.06-.94L8.5 2.5l-.94 2.06-2.06.94zm10 10l.94 2.06.94-2.06 2.06-.94-2.06-.94-.94-2.06-.94 2.06-2.06.94z\"/><path d=\"M17.41 7.96l-1.37-1.37c-.4-.4-.92-.59-1.43-.59-.52 0-1.04.2-1.43.59L10.3 9.45l-7.72 7.72c-.78.78-.78 2.05 0 2.83L4 21.41c.39.39.9.59 1.41.59.51 0 1.02-.2 1.41-.59l7.78-7.78 2.81-2.81c.8-.78.8-2.07 0-2.86zM5.41 20L4 18.59l7.72-7.72 1.47 1.35L5.41 20z\"/>\n",
              "  </svg>\n",
              "      </button>\n",
              "      \n",
              "  <style>\n",
              "    .colab-df-container {\n",
              "      display:flex;\n",
              "      flex-wrap:wrap;\n",
              "      gap: 12px;\n",
              "    }\n",
              "\n",
              "    .colab-df-convert {\n",
              "      background-color: #E8F0FE;\n",
              "      border: none;\n",
              "      border-radius: 50%;\n",
              "      cursor: pointer;\n",
              "      display: none;\n",
              "      fill: #1967D2;\n",
              "      height: 32px;\n",
              "      padding: 0 0 0 0;\n",
              "      width: 32px;\n",
              "    }\n",
              "\n",
              "    .colab-df-convert:hover {\n",
              "      background-color: #E2EBFA;\n",
              "      box-shadow: 0px 1px 2px rgba(60, 64, 67, 0.3), 0px 1px 3px 1px rgba(60, 64, 67, 0.15);\n",
              "      fill: #174EA6;\n",
              "    }\n",
              "\n",
              "    [theme=dark] .colab-df-convert {\n",
              "      background-color: #3B4455;\n",
              "      fill: #D2E3FC;\n",
              "    }\n",
              "\n",
              "    [theme=dark] .colab-df-convert:hover {\n",
              "      background-color: #434B5C;\n",
              "      box-shadow: 0px 1px 3px 1px rgba(0, 0, 0, 0.15);\n",
              "      filter: drop-shadow(0px 1px 2px rgba(0, 0, 0, 0.3));\n",
              "      fill: #FFFFFF;\n",
              "    }\n",
              "  </style>\n",
              "\n",
              "      <script>\n",
              "        const buttonEl =\n",
              "          document.querySelector('#df-5590cbe0-9779-4e91-974f-296b6638f703 button.colab-df-convert');\n",
              "        buttonEl.style.display =\n",
              "          google.colab.kernel.accessAllowed ? 'block' : 'none';\n",
              "\n",
              "        async function convertToInteractive(key) {\n",
              "          const element = document.querySelector('#df-5590cbe0-9779-4e91-974f-296b6638f703');\n",
              "          const dataTable =\n",
              "            await google.colab.kernel.invokeFunction('convertToInteractive',\n",
              "                                                     [key], {});\n",
              "          if (!dataTable) return;\n",
              "\n",
              "          const docLinkHtml = 'Like what you see? Visit the ' +\n",
              "            '<a target=\"_blank\" href=https://colab.research.google.com/notebooks/data_table.ipynb>data table notebook</a>'\n",
              "            + ' to learn more about interactive tables.';\n",
              "          element.innerHTML = '';\n",
              "          dataTable['output_type'] = 'display_data';\n",
              "          await google.colab.output.renderOutput(dataTable, element);\n",
              "          const docLink = document.createElement('div');\n",
              "          docLink.innerHTML = docLinkHtml;\n",
              "          element.appendChild(docLink);\n",
              "        }\n",
              "      </script>\n",
              "    </div>\n",
              "  </div>\n",
              "  "
            ]
          },
          "metadata": {},
          "execution_count": 55
        }
      ]
    },
    {
      "cell_type": "code",
      "source": [
        "from sklearn.impute import SimpleImputer"
      ],
      "metadata": {
        "id": "d7RJwZqjS1cn"
      },
      "execution_count": 56,
      "outputs": []
    },
    {
      "cell_type": "code",
      "source": [
        "imputer_num = SimpleImputer(strategy='mean')\n",
        "imputer_cat = SimpleImputer(strategy='most_frequent')"
      ],
      "metadata": {
        "id": "z5QdUaWtTm1w"
      },
      "execution_count": 57,
      "outputs": []
    },
    {
      "cell_type": "code",
      "source": [
        "import math\n",
        "\n",
        "plt_size = 0\n",
        "i = 0\n",
        "j = 0\n",
        "\n",
        "for col in df.columns:\n",
        "  if df[col].isnull().mean()*100 <= 5 and df[col].isnull().mean()*100 > 0:\n",
        "    plt_size += 1\n",
        "\n",
        "\n",
        "figure, axes = plt.subplots(plt_size//2, 2, figsize=(20,30))\n",
        "\n",
        "for col in df.columns:\n",
        "\n",
        "  if df[col].isnull().mean()*100 <= 5 and df[col].isnull().mean()*100 > 0:\n",
        "        \n",
        "    if df[col].dtype != 'O':\n",
        "\n",
        "      axes[i, j].set_title(col)\n",
        "      \n",
        "      sns.histplot(df[col], bins=100, color='red', kde=True, ax=axes[i, j], stat='density')\n",
        "\n",
        "      df[col] = imputer_num.fit_transform(df[[col]])\n",
        "\n",
        "      sns.histplot(imputer_num.fit_transform(df[[col]]), bins=100, color='green', kde=True, ax=axes[i, j], stat='density')\n",
        "    \n",
        "    else:\n",
        "      axes[i, j].set_title(col)\n",
        "      \n",
        "      category_counts1 = pd.Series(df[col].value_counts())\n",
        "      category_counts2 = pd.DataFrame(imputer_cat.fit_transform(df[[col]])).value_counts()\n",
        "\n",
        "      categories = category_counts1.index\n",
        "\n",
        "      width = 0.4\n",
        "\n",
        "      x_positions1 = range(len(category_counts1))\n",
        "      x_positions2 = [x + width for x in x_positions1]\n",
        "\n",
        "      axes[i, j].bar(x_positions1, category_counts1.values, width=width, color='red', label='Original')\n",
        "      axes[i, j].bar(x_positions2, category_counts2.values, width=width, color='green', label='Imputed')\n",
        "\n",
        "      axes[i, j].set_xticklabels([])\n",
        "\n",
        "      axes[i, j].legend()\n",
        "\n",
        "      plt.tight_layout()\n",
        "      \n",
        "      df[col] = imputer_cat.fit_transform(df[[col]])\n",
        "\n",
        "    j += 1\n",
        "    if j>1:\n",
        "      j = 0\n",
        "      i += 1\n",
        "\n",
        "plt.show()"
      ],
      "metadata": {
        "colab": {
          "base_uri": "https://localhost:8080/",
          "height": 1000
        },
        "id": "tWYF0q4FrUM0",
        "outputId": "fcc0974a-ecd7-4e6d-a6de-143e3b5a435a"
      },
      "execution_count": 58,
      "outputs": [
        {
          "output_type": "display_data",
          "data": {
            "text/plain": [
              "<Figure size 2000x3000 with 12 Axes>"
            ],
            "image/png": "[encoded data removed]"
          },
          "metadata": {}
        }
      ]
    },
    {
      "cell_type": "code",
      "source": [
        "df.isnull().mean()*100"
      ],
      "metadata": {
        "colab": {
          "base_uri": "https://localhost:8080/"
        },
        "id": "Pmllf-OlpL_r",
        "outputId": "e17c8850-705a-42e7-d4b9-6803738792cc"
      },
      "execution_count": 59,
      "outputs": [
        {
          "output_type": "execute_result",
          "data": {
            "text/plain": [
              "Address                 0.000000\n",
              "Minimum Temperature     0.000000\n",
              "Maximum Temperature     0.000000\n",
              "Temperature             0.000000\n",
              "Dew Point               0.000000\n",
              "Relative Humidity       0.000000\n",
              "Heat Index             39.442125\n",
              "Wind Speed              0.000000\n",
              "Wind Direction          0.000000\n",
              "Precipitation           0.000000\n",
              "Snow Depth             16.104364\n",
              "Visibility              0.000000\n",
              "Cloud Cover             0.000000\n",
              "Sea Level Pressure      0.000000\n",
              "Weather Type            0.000000\n",
              "Latitude                0.000000\n",
              "Longitude               0.000000\n",
              "Resolved Address        0.000000\n",
              "Name                    0.000000\n",
              "Conditions              0.000000\n",
              "Month                   0.000000\n",
              "Hour                    0.000000\n",
              "dtype: float64"
            ]
          },
          "metadata": {},
          "execution_count": 59
        }
      ]
    },
    {
      "cell_type": "code",
      "source": [
        "df['Heat Index'].value_counts()"
      ],
      "metadata": {
        "colab": {
          "base_uri": "https://localhost:8080/"
        },
        "id": "PsHRwz6yrUcO",
        "outputId": "08a3e575-e17e-46dd-8dfc-2e71de57f8ca"
      },
      "execution_count": 60,
      "outputs": [
        {
          "output_type": "execute_result",
          "data": {
            "text/plain": [
              "92.4     1275\n",
              "94.1     1075\n",
              "88.1     1071\n",
              "98.3      986\n",
              "96.1      920\n",
              "         ... \n",
              "127.3       1\n",
              "124.1       1\n",
              "126.7       1\n",
              "131.7       1\n",
              "121.8       1\n",
              "Name: Heat Index, Length: 483, dtype: int64"
            ]
          },
          "metadata": {},
          "execution_count": 60
        }
      ]
    },
    {
      "cell_type": "code",
      "source": [
        "df['Snow Depth'].value_counts()"
      ],
      "metadata": {
        "colab": {
          "base_uri": "https://localhost:8080/"
        },
        "id": "Slcag15jrUen",
        "outputId": "bb054373-9b79-4dff-9247-86f6f58291e9"
      },
      "execution_count": 61,
      "outputs": [
        {
          "output_type": "execute_result",
          "data": {
            "text/plain": [
              "0.0    44213\n",
              "Name: Snow Depth, dtype: int64"
            ]
          },
          "metadata": {},
          "execution_count": 61
        }
      ]
    },
    {
      "cell_type": "code",
      "source": [
        "df = df.drop(['Snow Depth'], axis=1)"
      ],
      "metadata": {
        "id": "OuPPkHZrrUhA"
      },
      "execution_count": 62,
      "outputs": []
    },
    {
      "cell_type": "code",
      "source": [
        "df.isnull().mean()*100"
      ],
      "metadata": {
        "colab": {
          "base_uri": "https://localhost:8080/"
        },
        "id": "0pQkumStrUjv",
        "outputId": "3bbc0331-d06a-46d4-ccbe-ecc7afe6cfc8"
      },
      "execution_count": 63,
      "outputs": [
        {
          "output_type": "execute_result",
          "data": {
            "text/plain": [
              "Address                 0.000000\n",
              "Minimum Temperature     0.000000\n",
              "Maximum Temperature     0.000000\n",
              "Temperature             0.000000\n",
              "Dew Point               0.000000\n",
              "Relative Humidity       0.000000\n",
              "Heat Index             39.442125\n",
              "Wind Speed              0.000000\n",
              "Wind Direction          0.000000\n",
              "Precipitation           0.000000\n",
              "Visibility              0.000000\n",
              "Cloud Cover             0.000000\n",
              "Sea Level Pressure      0.000000\n",
              "Weather Type            0.000000\n",
              "Latitude                0.000000\n",
              "Longitude               0.000000\n",
              "Resolved Address        0.000000\n",
              "Name                    0.000000\n",
              "Conditions              0.000000\n",
              "Month                   0.000000\n",
              "Hour                    0.000000\n",
              "dtype: float64"
            ]
          },
          "metadata": {},
          "execution_count": 63
        }
      ]
    },
    {
      "cell_type": "code",
      "source": [
        "df.head()"
      ],
      "metadata": {
        "colab": {
          "base_uri": "https://localhost:8080/",
          "height": 478
        },
        "id": "ZPz-m0iWrUmO",
        "outputId": "bce5103c-f231-4f8d-ba92-731d4a7fb9cf"
      },
      "execution_count": 64,
      "outputs": [
        {
          "output_type": "execute_result",
          "data": {
            "text/plain": [
              "   Address  Minimum Temperature  Maximum Temperature  Temperature  Dew Point  \\\n",
              "0  kolkata                 62.6                 62.6         62.6       59.0   \n",
              "1  kolkata                 60.8                 60.8         60.8       59.0   \n",
              "2  kolkata                 63.1                 63.1         63.1       60.4   \n",
              "3  kolkata                 60.8                 60.8         60.8       59.0   \n",
              "4  kolkata                 59.0                 59.0         59.0       57.2   \n",
              "\n",
              "   Relative Humidity  Heat Index  Wind Speed  Wind Direction  Precipitation  \\\n",
              "0              88.01         NaN         0.0             0.0            0.0   \n",
              "1              93.79         NaN         0.0             0.0            0.0   \n",
              "2              90.99         NaN         0.0             0.0            0.0   \n",
              "3              93.79         NaN         5.8            20.0            0.0   \n",
              "4              93.75         NaN         0.0             0.0            0.0   \n",
              "\n",
              "   Visibility  Cloud Cover  Sea Level Pressure Weather Type  Latitude  \\\n",
              "0         1.2          0.0              1015.0         Mist   22.5705   \n",
              "1         1.2          0.0              1015.0         Mist   22.5705   \n",
              "2         0.6          0.0              1015.4    Mist, Fog   22.5705   \n",
              "3         0.6          0.0              1014.0         Mist   22.5705   \n",
              "4         1.2          0.0              1014.0         Mist   22.5705   \n",
              "\n",
              "   Longitude    Resolved Address                Name Conditions  Month  Hour  \n",
              "0    88.3712  Kolkata, WB, India  Kolkata, WB, India      Clear      1     0  \n",
              "1    88.3712  Kolkata, WB, India  Kolkata, WB, India      Clear      1     1  \n",
              "2    88.3712  Kolkata, WB, India  Kolkata, WB, India      Clear      1     2  \n",
              "3    88.3712  Kolkata, WB, India  Kolkata, WB, India      Clear      1     3  \n",
              "4    88.3712  Kolkata, WB, India  Kolkata, WB, India      Clear      1     4  "
            ],
            "text/html": [
              "\n",
              "  <div id=\"df-1ab39471-4fdc-4370-b7cd-d71fad1a6b7e\">\n",
              "    <div class=\"colab-df-container\">\n",
              "      <div>\n",
              "<style scoped>\n",
              "    .dataframe tbody tr th:only-of-type {\n",
              "        vertical-align: middle;\n",
              "    }\n",
              "\n",
              "    .dataframe tbody tr th {\n",
              "        vertical-align: top;\n",
              "    }\n",
              "\n",
              "    .dataframe thead th {\n",
              "        text-align: right;\n",
              "    }\n",
              "</style>\n",
              "<table border=\"1\" class=\"dataframe\">\n",
              "  <thead>\n",
              "    <tr style=\"text-align: right;\">\n",
              "      <th></th>\n",
              "      <th>Address</th>\n",
              "      <th>Minimum Temperature</th>\n",
              "      <th>Maximum Temperature</th>\n",
              "      <th>Temperature</th>\n",
              "      <th>Dew Point</th>\n",
              "      <th>Relative Humidity</th>\n",
              "      <th>Heat Index</th>\n",
              "      <th>Wind Speed</th>\n",
              "      <th>Wind Direction</th>\n",
              "      <th>Precipitation</th>\n",
              "      <th>Visibility</th>\n",
              "      <th>Cloud Cover</th>\n",
              "      <th>Sea Level Pressure</th>\n",
              "      <th>Weather Type</th>\n",
              "      <th>Latitude</th>\n",
              "      <th>Longitude</th>\n",
              "      <th>Resolved Address</th>\n",
              "      <th>Name</th>\n",
              "      <th>Conditions</th>\n",
              "      <th>Month</th>\n",
              "      <th>Hour</th>\n",
              "    </tr>\n",
              "  </thead>\n",
              "  <tbody>\n",
              "    <tr>\n",
              "      <th>0</th>\n",
              "      <td>kolkata</td>\n",
              "      <td>62.6</td>\n",
              "      <td>62.6</td>\n",
              "      <td>62.6</td>\n",
              "      <td>59.0</td>\n",
              "      <td>88.01</td>\n",
              "      <td>NaN</td>\n",
              "      <td>0.0</td>\n",
              "      <td>0.0</td>\n",
              "      <td>0.0</td>\n",
              "      <td>1.2</td>\n",
              "      <td>0.0</td>\n",
              "      <td>1015.0</td>\n",
              "      <td>Mist</td>\n",
              "      <td>22.5705</td>\n",
              "      <td>88.3712</td>\n",
              "      <td>Kolkata, WB, India</td>\n",
              "      <td>Kolkata, WB, India</td>\n",
              "      <td>Clear</td>\n",
              "      <td>1</td>\n",
              "      <td>0</td>\n",
              "    </tr>\n",
              "    <tr>\n",
              "      <th>1</th>\n",
              "      <td>kolkata</td>\n",
              "      <td>60.8</td>\n",
              "      <td>60.8</td>\n",
              "      <td>60.8</td>\n",
              "      <td>59.0</td>\n",
              "      <td>93.79</td>\n",
              "      <td>NaN</td>\n",
              "      <td>0.0</td>\n",
              "      <td>0.0</td>\n",
              "      <td>0.0</td>\n",
              "      <td>1.2</td>\n",
              "      <td>0.0</td>\n",
              "      <td>1015.0</td>\n",
              "      <td>Mist</td>\n",
              "      <td>22.5705</td>\n",
              "      <td>88.3712</td>\n",
              "      <td>Kolkata, WB, India</td>\n",
              "      <td>Kolkata, WB, India</td>\n",
              "      <td>Clear</td>\n",
              "      <td>1</td>\n",
              "      <td>1</td>\n",
              "    </tr>\n",
              "    <tr>\n",
              "      <th>2</th>\n",
              "      <td>kolkata</td>\n",
              "      <td>63.1</td>\n",
              "      <td>63.1</td>\n",
              "      <td>63.1</td>\n",
              "      <td>60.4</td>\n",
              "      <td>90.99</td>\n",
              "      <td>NaN</td>\n",
              "      <td>0.0</td>\n",
              "      <td>0.0</td>\n",
              "      <td>0.0</td>\n",
              "      <td>0.6</td>\n",
              "      <td>0.0</td>\n",
              "      <td>1015.4</td>\n",
              "      <td>Mist, Fog</td>\n",
              "      <td>22.5705</td>\n",
              "      <td>88.3712</td>\n",
              "      <td>Kolkata, WB, India</td>\n",
              "      <td>Kolkata, WB, India</td>\n",
              "      <td>Clear</td>\n",
              "      <td>1</td>\n",
              "      <td>2</td>\n",
              "    </tr>\n",
              "    <tr>\n",
              "      <th>3</th>\n",
              "      <td>kolkata</td>\n",
              "      <td>60.8</td>\n",
              "      <td>60.8</td>\n",
              "      <td>60.8</td>\n",
              "      <td>59.0</td>\n",
              "      <td>93.79</td>\n",
              "      <td>NaN</td>\n",
              "      <td>5.8</td>\n",
              "      <td>20.0</td>\n",
              "      <td>0.0</td>\n",
              "      <td>0.6</td>\n",
              "      <td>0.0</td>\n",
              "      <td>1014.0</td>\n",
              "      <td>Mist</td>\n",
              "      <td>22.5705</td>\n",
              "      <td>88.3712</td>\n",
              "      <td>Kolkata, WB, India</td>\n",
              "      <td>Kolkata, WB, India</td>\n",
              "      <td>Clear</td>\n",
              "      <td>1</td>\n",
              "      <td>3</td>\n",
              "    </tr>\n",
              "    <tr>\n",
              "      <th>4</th>\n",
              "      <td>kolkata</td>\n",
              "      <td>59.0</td>\n",
              "      <td>59.0</td>\n",
              "      <td>59.0</td>\n",
              "      <td>57.2</td>\n",
              "      <td>93.75</td>\n",
              "      <td>NaN</td>\n",
              "      <td>0.0</td>\n",
              "      <td>0.0</td>\n",
              "      <td>0.0</td>\n",
              "      <td>1.2</td>\n",
              "      <td>0.0</td>\n",
              "      <td>1014.0</td>\n",
              "      <td>Mist</td>\n",
              "      <td>22.5705</td>\n",
              "      <td>88.3712</td>\n",
              "      <td>Kolkata, WB, India</td>\n",
              "      <td>Kolkata, WB, India</td>\n",
              "      <td>Clear</td>\n",
              "      <td>1</td>\n",
              "      <td>4</td>\n",
              "    </tr>\n",
              "  </tbody>\n",
              "</table>\n",
              "</div>\n",
              "      <button class=\"colab-df-convert\" onclick=\"convertToInteractive('df-1ab39471-4fdc-4370-b7cd-d71fad1a6b7e')\"\n",
              "              title=\"Convert this dataframe to an interactive table.\"\n",
              "              style=\"display:none;\">\n",
              "        \n",
              "  <svg xmlns=\"http://www.w3.org/2000/svg\" height=\"24px\"viewBox=\"0 0 24 24\"\n",
              "       width=\"24px\">\n",
              "    <path d=\"M0 0h24v24H0V0z\" fill=\"none\"/>\n",
              "    <path d=\"M18.56 5.44l.94 2.06.94-2.06 2.06-.94-2.06-.94-.94-2.06-.94 2.06-2.06.94zm-11 1L8.5 8.5l.94-2.06 2.06-.94-2.06-.94L8.5 2.5l-.94 2.06-2.06.94zm10 10l.94 2.06.94-2.06 2.06-.94-2.06-.94-.94-2.06-.94 2.06-2.06.94z\"/><path d=\"M17.41 7.96l-1.37-1.37c-.4-.4-.92-.59-1.43-.59-.52 0-1.04.2-1.43.59L10.3 9.45l-7.72 7.72c-.78.78-.78 2.05 0 2.83L4 21.41c.39.39.9.59 1.41.59.51 0 1.02-.2 1.41-.59l7.78-7.78 2.81-2.81c.8-.78.8-2.07 0-2.86zM5.41 20L4 18.59l7.72-7.72 1.47 1.35L5.41 20z\"/>\n",
              "  </svg>\n",
              "      </button>\n",
              "      \n",
              "  <style>\n",
              "    .colab-df-container {\n",
              "      display:flex;\n",
              "      flex-wrap:wrap;\n",
              "      gap: 12px;\n",
              "    }\n",
              "\n",
              "    .colab-df-convert {\n",
              "      background-color: #E8F0FE;\n",
              "      border: none;\n",
              "      border-radius: 50%;\n",
              "      cursor: pointer;\n",
              "      display: none;\n",
              "      fill: #1967D2;\n",
              "      height: 32px;\n",
              "      padding: 0 0 0 0;\n",
              "      width: 32px;\n",
              "    }\n",
              "\n",
              "    .colab-df-convert:hover {\n",
              "      background-color: #E2EBFA;\n",
              "      box-shadow: 0px 1px 2px rgba(60, 64, 67, 0.3), 0px 1px 3px 1px rgba(60, 64, 67, 0.15);\n",
              "      fill: #174EA6;\n",
              "    }\n",
              "\n",
              "    [theme=dark] .colab-df-convert {\n",
              "      background-color: #3B4455;\n",
              "      fill: #D2E3FC;\n",
              "    }\n",
              "\n",
              "    [theme=dark] .colab-df-convert:hover {\n",
              "      background-color: #434B5C;\n",
              "      box-shadow: 0px 1px 3px 1px rgba(0, 0, 0, 0.15);\n",
              "      filter: drop-shadow(0px 1px 2px rgba(0, 0, 0, 0.3));\n",
              "      fill: #FFFFFF;\n",
              "    }\n",
              "  </style>\n",
              "\n",
              "      <script>\n",
              "        const buttonEl =\n",
              "          document.querySelector('#df-1ab39471-4fdc-4370-b7cd-d71fad1a6b7e button.colab-df-convert');\n",
              "        buttonEl.style.display =\n",
              "          google.colab.kernel.accessAllowed ? 'block' : 'none';\n",
              "\n",
              "        async function convertToInteractive(key) {\n",
              "          const element = document.querySelector('#df-1ab39471-4fdc-4370-b7cd-d71fad1a6b7e');\n",
              "          const dataTable =\n",
              "            await google.colab.kernel.invokeFunction('convertToInteractive',\n",
              "                                                     [key], {});\n",
              "          if (!dataTable) return;\n",
              "\n",
              "          const docLinkHtml = 'Like what you see? Visit the ' +\n",
              "            '<a target=\"_blank\" href=https://colab.research.google.com/notebooks/data_table.ipynb>data table notebook</a>'\n",
              "            + ' to learn more about interactive tables.';\n",
              "          element.innerHTML = '';\n",
              "          dataTable['output_type'] = 'display_data';\n",
              "          await google.colab.output.renderOutput(dataTable, element);\n",
              "          const docLink = document.createElement('div');\n",
              "          docLink.innerHTML = docLinkHtml;\n",
              "          element.appendChild(docLink);\n",
              "        }\n",
              "      </script>\n",
              "    </div>\n",
              "  </div>\n",
              "  "
            ]
          },
          "metadata": {},
          "execution_count": 64
        }
      ]
    },
    {
      "cell_type": "code",
      "source": [
        "for col in df.columns:\n",
        "  if(df[col].dtype == 'O'):\n",
        "    print(\"//\", col, \"//\")\n",
        "    print(df[col].value_counts())\n",
        "    print(\"\\n\\n----------------------------------------------------------------------   \\n\\n\")"
      ],
      "metadata": {
        "colab": {
          "base_uri": "https://localhost:8080/"
        },
        "id": "EYBkFJueFXb_",
        "outputId": "2c849fd0-0a95-4cb7-bed3-b6894e5e0e77"
      },
      "execution_count": 65,
      "outputs": [
        {
          "output_type": "stream",
          "name": "stdout",
          "text": [
            "// Address //\n",
            "kolkata    52700\n",
            "Name: Address, dtype: int64\n",
            "\n",
            "\n",
            "----------------------------------------------------------------------   \n",
            "\n",
            "\n",
            "// Weather Type //\n",
            "Smoke Or Haze                                                   38157\n",
            "Mist                                                             5410\n",
            "Light Rain                                                       1842\n",
            "Mist, Smoke Or Haze                                              1532\n",
            "Thunderstorm                                                      932\n",
            "                                                                ...  \n",
            "Mist, Rain, Sky Coverage Decreasing, Sky Coverage Increasing        1\n",
            "Mist, Light Drizzle, Sky Coverage Decreasing                        1\n",
            "Light Drizzle, Rain, Light Rain, Sky Coverage Increasing            1\n",
            "Rain, Heavy Rain, Light Rain                                        1\n",
            "Thunderstorm, Sky Unchanged                                         1\n",
            "Name: Weather Type, Length: 253, dtype: int64\n",
            "\n",
            "\n",
            "----------------------------------------------------------------------   \n",
            "\n",
            "\n",
            "// Resolved Address //\n",
            "Kolkata, WB, India    52700\n",
            "Name: Resolved Address, dtype: int64\n",
            "\n",
            "\n",
            "----------------------------------------------------------------------   \n",
            "\n",
            "\n",
            "// Name //\n",
            "Kolkata, WB, India    52700\n",
            "Name: Name, dtype: int64\n",
            "\n",
            "\n",
            "----------------------------------------------------------------------   \n",
            "\n",
            "\n",
            "// Conditions //\n",
            "Partially cloudy          26922\n",
            "Clear                     15987\n",
            "Overcast                   8220\n",
            "Rain, Overcast             1315\n",
            "Rain, Partially cloudy      245\n",
            "Rain                         11\n",
            "Name: Conditions, dtype: int64\n",
            "\n",
            "\n",
            "----------------------------------------------------------------------   \n",
            "\n",
            "\n"
          ]
        }
      ]
    },
    {
      "cell_type": "code",
      "source": [
        "df = df.drop(['Address', 'Resolved Address', 'Name'], axis=1)"
      ],
      "metadata": {
        "id": "n0VIUgwFFXYi"
      },
      "execution_count": 66,
      "outputs": []
    },
    {
      "cell_type": "code",
      "source": [
        "df.info()"
      ],
      "metadata": {
        "colab": {
          "base_uri": "https://localhost:8080/"
        },
        "id": "ARmxbxC4FXV3",
        "outputId": "333e0ffb-2633-46e2-ba0b-034a270ab663"
      },
      "execution_count": 67,
      "outputs": [
        {
          "output_type": "stream",
          "name": "stdout",
          "text": [
            "<class 'pandas.core.frame.DataFrame'>\n",
            "RangeIndex: 52700 entries, 0 to 52699\n",
            "Data columns (total 18 columns):\n",
            " #   Column               Non-Null Count  Dtype  \n",
            "---  ------               --------------  -----  \n",
            " 0   Minimum Temperature  52700 non-null  float64\n",
            " 1   Maximum Temperature  52700 non-null  float64\n",
            " 2   Temperature          52700 non-null  float64\n",
            " 3   Dew Point            52700 non-null  float64\n",
            " 4   Relative Humidity    52700 non-null  float64\n",
            " 5   Heat Index           31914 non-null  float64\n",
            " 6   Wind Speed           52700 non-null  float64\n",
            " 7   Wind Direction       52700 non-null  float64\n",
            " 8   Precipitation        52700 non-null  float64\n",
            " 9   Visibility           52700 non-null  float64\n",
            " 10  Cloud Cover          52700 non-null  float64\n",
            " 11  Sea Level Pressure   52700 non-null  float64\n",
            " 12  Weather Type         52700 non-null  object \n",
            " 13  Latitude             52700 non-null  float64\n",
            " 14  Longitude            52700 non-null  float64\n",
            " 15  Conditions           52700 non-null  object \n",
            " 16  Month                52700 non-null  int64  \n",
            " 17  Hour                 52700 non-null  int64  \n",
            "dtypes: float64(14), int64(2), object(2)\n",
            "memory usage: 7.2+ MB\n"
          ]
        }
      ]
    },
    {
      "cell_type": "code",
      "source": [
        "from sklearn.impute import KNNImputer\n",
        "\n",
        "imputer = KNNImputer(n_neighbors=5, weights='distance')\n",
        "\n",
        "df['Heat Index'] = imputer.fit_transform(df[['Heat Index']])"
      ],
      "metadata": {
        "id": "EJBvY9mc5nsJ"
      },
      "execution_count": 68,
      "outputs": []
    },
    {
      "cell_type": "code",
      "source": [
        "df.isnull().mean()"
      ],
      "metadata": {
        "colab": {
          "base_uri": "https://localhost:8080/"
        },
        "id": "MGGZZ7Ue_xai",
        "outputId": "7dc615e4-816b-4872-817d-1e2d9185d049"
      },
      "execution_count": 69,
      "outputs": [
        {
          "output_type": "execute_result",
          "data": {
            "text/plain": [
              "Minimum Temperature    0.0\n",
              "Maximum Temperature    0.0\n",
              "Temperature            0.0\n",
              "Dew Point              0.0\n",
              "Relative Humidity      0.0\n",
              "Heat Index             0.0\n",
              "Wind Speed             0.0\n",
              "Wind Direction         0.0\n",
              "Precipitation          0.0\n",
              "Visibility             0.0\n",
              "Cloud Cover            0.0\n",
              "Sea Level Pressure     0.0\n",
              "Weather Type           0.0\n",
              "Latitude               0.0\n",
              "Longitude              0.0\n",
              "Conditions             0.0\n",
              "Month                  0.0\n",
              "Hour                   0.0\n",
              "dtype: float64"
            ]
          },
          "metadata": {},
          "execution_count": 69
        }
      ]
    },
    {
      "cell_type": "code",
      "source": [
        "for col in df.columns:\n",
        "  if(df[col].dtype != 'O'):\n",
        "    print(\"//\", col, \"//\")\n",
        "    print(df[col].value_counts())\n",
        "    print(\"\\n\\n----------------------------------------------------------------------   \\n\\n\")"
      ],
      "metadata": {
        "colab": {
          "base_uri": "https://localhost:8080/"
        },
        "id": "XxZJY6JW28B4",
        "outputId": "f53f6fec-f890-444e-c09c-baf11a748340"
      },
      "execution_count": 70,
      "outputs": [
        {
          "output_type": "stream",
          "name": "stdout",
          "text": [
            "// Minimum Temperature //\n",
            "82.4     3944\n",
            "84.2     3533\n",
            "80.6     3094\n",
            "86.0     2845\n",
            "87.8     2166\n",
            "         ... \n",
            "100.7       1\n",
            "53.2        1\n",
            "52.6        1\n",
            "100.3       1\n",
            "99.3        1\n",
            "Name: Minimum Temperature, Length: 501, dtype: int64\n",
            "\n",
            "\n",
            "----------------------------------------------------------------------   \n",
            "\n",
            "\n",
            "// Maximum Temperature //\n",
            "82.4     3944\n",
            "84.2     3533\n",
            "80.6     3094\n",
            "86.0     2845\n",
            "87.8     2166\n",
            "         ... \n",
            "100.7       1\n",
            "53.2        1\n",
            "52.6        1\n",
            "100.3       1\n",
            "99.3        1\n",
            "Name: Maximum Temperature, Length: 501, dtype: int64\n",
            "\n",
            "\n",
            "----------------------------------------------------------------------   \n",
            "\n",
            "\n",
            "// Temperature //\n",
            "82.4     3944\n",
            "84.2     3533\n",
            "80.6     3094\n",
            "86.0     2845\n",
            "87.8     2166\n",
            "         ... \n",
            "100.7       1\n",
            "53.2        1\n",
            "52.6        1\n",
            "100.3       1\n",
            "99.3        1\n",
            "Name: Temperature, Length: 501, dtype: int64\n",
            "\n",
            "\n",
            "----------------------------------------------------------------------   \n",
            "\n",
            "\n",
            "// Dew Point //\n",
            "78.8    4961\n",
            "80.6    4270\n",
            "77.0    3452\n",
            "82.4    2399\n",
            "75.2    2016\n",
            "        ... \n",
            "42.1       1\n",
            "85.7       1\n",
            "41.9       1\n",
            "84.6       1\n",
            "43.7       1\n",
            "Name: Dew Point, Length: 449, dtype: int64\n",
            "\n",
            "\n",
            "----------------------------------------------------------------------   \n",
            "\n",
            "\n",
            "// Relative Humidity //\n",
            "88.92    1236\n",
            "94.27    1044\n",
            "94.32    1033\n",
            "88.99     958\n",
            "83.90     848\n",
            "         ... \n",
            "92.95       1\n",
            "97.13       1\n",
            "63.78       1\n",
            "54.06       1\n",
            "34.49       1\n",
            "Name: Relative Humidity, Length: 5630, dtype: int64\n",
            "\n",
            "\n",
            "----------------------------------------------------------------------   \n",
            "\n",
            "\n",
            "// Heat Index //\n",
            "98.187579     20786\n",
            "92.400000      1275\n",
            "94.100000      1075\n",
            "88.100000      1071\n",
            "98.300000       986\n",
            "              ...  \n",
            "122.900000        1\n",
            "131.900000        1\n",
            "127.300000        1\n",
            "126.700000        1\n",
            "121.800000        1\n",
            "Name: Heat Index, Length: 484, dtype: int64\n",
            "\n",
            "\n",
            "----------------------------------------------------------------------   \n",
            "\n",
            "\n",
            "// Wind Speed //\n",
            "0.0     10596\n",
            "4.7      4815\n",
            "3.4      4430\n",
            "5.8      4264\n",
            "6.9      3793\n",
            "        ...  \n",
            "26.4        1\n",
            "46.1        1\n",
            "69.1        1\n",
            "26.7        1\n",
            "49.6        1\n",
            "Name: Wind Speed, Length: 178, dtype: int64\n",
            "\n",
            "\n",
            "----------------------------------------------------------------------   \n",
            "\n",
            "\n",
            "// Wind Direction //\n",
            "0.0      9366\n",
            "180.0    2126\n",
            "170.0    1760\n",
            "200.0    1629\n",
            "160.0    1500\n",
            "         ... \n",
            "297.0       5\n",
            "36.0        5\n",
            "21.0        5\n",
            "266.0       4\n",
            "307.0       4\n",
            "Name: Wind Direction, Length: 362, dtype: int64\n",
            "\n",
            "\n",
            "----------------------------------------------------------------------   \n",
            "\n",
            "\n",
            "// Precipitation //\n",
            "0.00    51129\n",
            "0.01      265\n",
            "0.10      134\n",
            "0.03      114\n",
            "0.02      112\n",
            "        ...  \n",
            "0.72        1\n",
            "1.35        1\n",
            "6.26        1\n",
            "1.09        1\n",
            "1.03        1\n",
            "Name: Precipitation, Length: 143, dtype: int64\n",
            "\n",
            "\n",
            "----------------------------------------------------------------------   \n",
            "\n",
            "\n",
            "// Visibility //\n",
            "1.900000    16403\n",
            "2.500000    14196\n",
            "2.300000     5960\n",
            "1.200000     5720\n",
            "2.200000     2431\n",
            "3.100000     1390\n",
            "2.100000     1018\n",
            "0.600000     1003\n",
            "1.400000      940\n",
            "1.300000      864\n",
            "1.500000      568\n",
            "2.700000      396\n",
            "1.100000      244\n",
            "0.800000      212\n",
            "2.600000      183\n",
            "2.400000      174\n",
            "1.600000      172\n",
            "2.030965      118\n",
            "3.700000      111\n",
            "0.700000      106\n",
            "0.000000       91\n",
            "0.900000       90\n",
            "1.000000       89\n",
            "2.000000       57\n",
            "1.700000       44\n",
            "2.900000       26\n",
            "4.300000       17\n",
            "0.400000       15\n",
            "5.000000       15\n",
            "1.800000       13\n",
            "2.800000        8\n",
            "3.200000        8\n",
            "0.500000        5\n",
            "4.800000        4\n",
            "3.000000        3\n",
            "3.300000        1\n",
            "4.900000        1\n",
            "3.800000        1\n",
            "0.200000        1\n",
            "4.600000        1\n",
            "8.600000        1\n",
            "Name: Visibility, dtype: int64\n",
            "\n",
            "\n",
            "----------------------------------------------------------------------   \n",
            "\n",
            "\n",
            "// Cloud Cover //\n",
            "0.0     13076\n",
            "50.0     9470\n",
            "27.5     4490\n",
            "89.0     3743\n",
            "69.7     3289\n",
            "        ...  \n",
            "10.1        1\n",
            "38.9        1\n",
            "2.3         1\n",
            "59.7        1\n",
            "60.1        1\n",
            "Name: Cloud Cover, Length: 920, dtype: int64\n",
            "\n",
            "\n",
            "----------------------------------------------------------------------   \n",
            "\n",
            "\n",
            "// Sea Level Pressure //\n",
            "1012.0    2241\n",
            "1011.0    2188\n",
            "1013.0    2147\n",
            "1014.0    2055\n",
            "1010.0    1969\n",
            "          ... \n",
            "1021.6       1\n",
            "990.9        1\n",
            "1020.8       1\n",
            "987.0        1\n",
            "1021.7       1\n",
            "Name: Sea Level Pressure, Length: 332, dtype: int64\n",
            "\n",
            "\n",
            "----------------------------------------------------------------------   \n",
            "\n",
            "\n",
            "// Latitude //\n",
            "22.5705    52700\n",
            "Name: Latitude, dtype: int64\n",
            "\n",
            "\n",
            "----------------------------------------------------------------------   \n",
            "\n",
            "\n",
            "// Longitude //\n",
            "88.3712    52700\n",
            "Name: Longitude, dtype: int64\n",
            "\n",
            "\n",
            "----------------------------------------------------------------------   \n",
            "\n",
            "\n",
            "// Month //\n",
            "7     4475\n",
            "12    4475\n",
            "1     4474\n",
            "5     4474\n",
            "3     4473\n",
            "10    4473\n",
            "8     4472\n",
            "9     4331\n",
            "4     4330\n",
            "6     4329\n",
            "11    4329\n",
            "2     4065\n",
            "Name: Month, dtype: int64\n",
            "\n",
            "\n",
            "----------------------------------------------------------------------   \n",
            "\n",
            "\n",
            "// Hour //\n",
            "0     2307\n",
            "1     2191\n",
            "22    2191\n",
            "21    2191\n",
            "20    2191\n",
            "19    2191\n",
            "18    2191\n",
            "17    2191\n",
            "16    2191\n",
            "15    2191\n",
            "14    2191\n",
            "13    2191\n",
            "12    2191\n",
            "11    2191\n",
            "10    2191\n",
            "9     2191\n",
            "8     2191\n",
            "7     2191\n",
            "6     2191\n",
            "5     2191\n",
            "4     2191\n",
            "3     2191\n",
            "2     2191\n",
            "23    2191\n",
            "Name: Hour, dtype: int64\n",
            "\n",
            "\n",
            "----------------------------------------------------------------------   \n",
            "\n",
            "\n"
          ]
        }
      ]
    },
    {
      "cell_type": "code",
      "source": [
        "df = df.drop(['Precipitation', 'Latitude', 'Longitude'], axis=1)"
      ],
      "metadata": {
        "id": "QM955yJN27_B"
      },
      "execution_count": 71,
      "outputs": []
    },
    {
      "cell_type": "code",
      "source": [
        "df.head()"
      ],
      "metadata": {
        "colab": {
          "base_uri": "https://localhost:8080/",
          "height": 322
        },
        "id": "SNuy_NX0N5fR",
        "outputId": "5f54ab4d-17bc-46e4-aa38-19b89ff5f76d"
      },
      "execution_count": 72,
      "outputs": [
        {
          "output_type": "execute_result",
          "data": {
            "text/plain": [
              "   Minimum Temperature  Maximum Temperature  Temperature  Dew Point  \\\n",
              "0                 62.6                 62.6         62.6       59.0   \n",
              "1                 60.8                 60.8         60.8       59.0   \n",
              "2                 63.1                 63.1         63.1       60.4   \n",
              "3                 60.8                 60.8         60.8       59.0   \n",
              "4                 59.0                 59.0         59.0       57.2   \n",
              "\n",
              "   Relative Humidity  Heat Index  Wind Speed  Wind Direction  Visibility  \\\n",
              "0              88.01   98.187579         0.0             0.0         1.2   \n",
              "1              93.79   98.187579         0.0             0.0         1.2   \n",
              "2              90.99   98.187579         0.0             0.0         0.6   \n",
              "3              93.79   98.187579         5.8            20.0         0.6   \n",
              "4              93.75   98.187579         0.0             0.0         1.2   \n",
              "\n",
              "   Cloud Cover  Sea Level Pressure Weather Type Conditions  Month  Hour  \n",
              "0          0.0              1015.0         Mist      Clear      1     0  \n",
              "1          0.0              1015.0         Mist      Clear      1     1  \n",
              "2          0.0              1015.4    Mist, Fog      Clear      1     2  \n",
              "3          0.0              1014.0         Mist      Clear      1     3  \n",
              "4          0.0              1014.0         Mist      Clear      1     4  "
            ],
            "text/html": [
              "\n",
              "  <div id=\"df-4118f245-774f-4457-9a3d-d95504fad4bf\">\n",
              "    <div class=\"colab-df-container\">\n",
              "      <div>\n",
              "<style scoped>\n",
              "    .dataframe tbody tr th:only-of-type {\n",
              "        vertical-align: middle;\n",
              "    }\n",
              "\n",
              "    .dataframe tbody tr th {\n",
              "        vertical-align: top;\n",
              "    }\n",
              "\n",
              "    .dataframe thead th {\n",
              "        text-align: right;\n",
              "    }\n",
              "</style>\n",
              "<table border=\"1\" class=\"dataframe\">\n",
              "  <thead>\n",
              "    <tr style=\"text-align: right;\">\n",
              "      <th></th>\n",
              "      <th>Minimum Temperature</th>\n",
              "      <th>Maximum Temperature</th>\n",
              "      <th>Temperature</th>\n",
              "      <th>Dew Point</th>\n",
              "      <th>Relative Humidity</th>\n",
              "      <th>Heat Index</th>\n",
              "      <th>Wind Speed</th>\n",
              "      <th>Wind Direction</th>\n",
              "      <th>Visibility</th>\n",
              "      <th>Cloud Cover</th>\n",
              "      <th>Sea Level Pressure</th>\n",
              "      <th>Weather Type</th>\n",
              "      <th>Conditions</th>\n",
              "      <th>Month</th>\n",
              "      <th>Hour</th>\n",
              "    </tr>\n",
              "  </thead>\n",
              "  <tbody>\n",
              "    <tr>\n",
              "      <th>0</th>\n",
              "      <td>62.6</td>\n",
              "      <td>62.6</td>\n",
              "      <td>62.6</td>\n",
              "      <td>59.0</td>\n",
              "      <td>88.01</td>\n",
              "      <td>98.187579</td>\n",
              "      <td>0.0</td>\n",
              "      <td>0.0</td>\n",
              "      <td>1.2</td>\n",
              "      <td>0.0</td>\n",
              "      <td>1015.0</td>\n",
              "      <td>Mist</td>\n",
              "      <td>Clear</td>\n",
              "      <td>1</td>\n",
              "      <td>0</td>\n",
              "    </tr>\n",
              "    <tr>\n",
              "      <th>1</th>\n",
              "      <td>60.8</td>\n",
              "      <td>60.8</td>\n",
              "      <td>60.8</td>\n",
              "      <td>59.0</td>\n",
              "      <td>93.79</td>\n",
              "      <td>98.187579</td>\n",
              "      <td>0.0</td>\n",
              "      <td>0.0</td>\n",
              "      <td>1.2</td>\n",
              "      <td>0.0</td>\n",
              "      <td>1015.0</td>\n",
              "      <td>Mist</td>\n",
              "      <td>Clear</td>\n",
              "      <td>1</td>\n",
              "      <td>1</td>\n",
              "    </tr>\n",
              "    <tr>\n",
              "      <th>2</th>\n",
              "      <td>63.1</td>\n",
              "      <td>63.1</td>\n",
              "      <td>63.1</td>\n",
              "      <td>60.4</td>\n",
              "      <td>90.99</td>\n",
              "      <td>98.187579</td>\n",
              "      <td>0.0</td>\n",
              "      <td>0.0</td>\n",
              "      <td>0.6</td>\n",
              "      <td>0.0</td>\n",
              "      <td>1015.4</td>\n",
              "      <td>Mist, Fog</td>\n",
              "      <td>Clear</td>\n",
              "      <td>1</td>\n",
              "      <td>2</td>\n",
              "    </tr>\n",
              "    <tr>\n",
              "      <th>3</th>\n",
              "      <td>60.8</td>\n",
              "      <td>60.8</td>\n",
              "      <td>60.8</td>\n",
              "      <td>59.0</td>\n",
              "      <td>93.79</td>\n",
              "      <td>98.187579</td>\n",
              "      <td>5.8</td>\n",
              "      <td>20.0</td>\n",
              "      <td>0.6</td>\n",
              "      <td>0.0</td>\n",
              "      <td>1014.0</td>\n",
              "      <td>Mist</td>\n",
              "      <td>Clear</td>\n",
              "      <td>1</td>\n",
              "      <td>3</td>\n",
              "    </tr>\n",
              "    <tr>\n",
              "      <th>4</th>\n",
              "      <td>59.0</td>\n",
              "      <td>59.0</td>\n",
              "      <td>59.0</td>\n",
              "      <td>57.2</td>\n",
              "      <td>93.75</td>\n",
              "      <td>98.187579</td>\n",
              "      <td>0.0</td>\n",
              "      <td>0.0</td>\n",
              "      <td>1.2</td>\n",
              "      <td>0.0</td>\n",
              "      <td>1014.0</td>\n",
              "      <td>Mist</td>\n",
              "      <td>Clear</td>\n",
              "      <td>1</td>\n",
              "      <td>4</td>\n",
              "    </tr>\n",
              "  </tbody>\n",
              "</table>\n",
              "</div>\n",
              "      <button class=\"colab-df-convert\" onclick=\"convertToInteractive('df-4118f245-774f-4457-9a3d-d95504fad4bf')\"\n",
              "              title=\"Convert this dataframe to an interactive table.\"\n",
              "              style=\"display:none;\">\n",
              "        \n",
              "  <svg xmlns=\"http://www.w3.org/2000/svg\" height=\"24px\"viewBox=\"0 0 24 24\"\n",
              "       width=\"24px\">\n",
              "    <path d=\"M0 0h24v24H0V0z\" fill=\"none\"/>\n",
              "    <path d=\"M18.56 5.44l.94 2.06.94-2.06 2.06-.94-2.06-.94-.94-2.06-.94 2.06-2.06.94zm-11 1L8.5 8.5l.94-2.06 2.06-.94-2.06-.94L8.5 2.5l-.94 2.06-2.06.94zm10 10l.94 2.06.94-2.06 2.06-.94-2.06-.94-.94-2.06-.94 2.06-2.06.94z\"/><path d=\"M17.41 7.96l-1.37-1.37c-.4-.4-.92-.59-1.43-.59-.52 0-1.04.2-1.43.59L10.3 9.45l-7.72 7.72c-.78.78-.78 2.05 0 2.83L4 21.41c.39.39.9.59 1.41.59.51 0 1.02-.2 1.41-.59l7.78-7.78 2.81-2.81c.8-.78.8-2.07 0-2.86zM5.41 20L4 18.59l7.72-7.72 1.47 1.35L5.41 20z\"/>\n",
              "  </svg>\n",
              "      </button>\n",
              "      \n",
              "  <style>\n",
              "    .colab-df-container {\n",
              "      display:flex;\n",
              "      flex-wrap:wrap;\n",
              "      gap: 12px;\n",
              "    }\n",
              "\n",
              "    .colab-df-convert {\n",
              "      background-color: #E8F0FE;\n",
              "      border: none;\n",
              "      border-radius: 50%;\n",
              "      cursor: pointer;\n",
              "      display: none;\n",
              "      fill: #1967D2;\n",
              "      height: 32px;\n",
              "      padding: 0 0 0 0;\n",
              "      width: 32px;\n",
              "    }\n",
              "\n",
              "    .colab-df-convert:hover {\n",
              "      background-color: #E2EBFA;\n",
              "      box-shadow: 0px 1px 2px rgba(60, 64, 67, 0.3), 0px 1px 3px 1px rgba(60, 64, 67, 0.15);\n",
              "      fill: #174EA6;\n",
              "    }\n",
              "\n",
              "    [theme=dark] .colab-df-convert {\n",
              "      background-color: #3B4455;\n",
              "      fill: #D2E3FC;\n",
              "    }\n",
              "\n",
              "    [theme=dark] .colab-df-convert:hover {\n",
              "      background-color: #434B5C;\n",
              "      box-shadow: 0px 1px 3px 1px rgba(0, 0, 0, 0.15);\n",
              "      filter: drop-shadow(0px 1px 2px rgba(0, 0, 0, 0.3));\n",
              "      fill: #FFFFFF;\n",
              "    }\n",
              "  </style>\n",
              "\n",
              "      <script>\n",
              "        const buttonEl =\n",
              "          document.querySelector('#df-4118f245-774f-4457-9a3d-d95504fad4bf button.colab-df-convert');\n",
              "        buttonEl.style.display =\n",
              "          google.colab.kernel.accessAllowed ? 'block' : 'none';\n",
              "\n",
              "        async function convertToInteractive(key) {\n",
              "          const element = document.querySelector('#df-4118f245-774f-4457-9a3d-d95504fad4bf');\n",
              "          const dataTable =\n",
              "            await google.colab.kernel.invokeFunction('convertToInteractive',\n",
              "                                                     [key], {});\n",
              "          if (!dataTable) return;\n",
              "\n",
              "          const docLinkHtml = 'Like what you see? Visit the ' +\n",
              "            '<a target=\"_blank\" href=https://colab.research.google.com/notebooks/data_table.ipynb>data table notebook</a>'\n",
              "            + ' to learn more about interactive tables.';\n",
              "          element.innerHTML = '';\n",
              "          dataTable['output_type'] = 'display_data';\n",
              "          await google.colab.output.renderOutput(dataTable, element);\n",
              "          const docLink = document.createElement('div');\n",
              "          docLink.innerHTML = docLinkHtml;\n",
              "          element.appendChild(docLink);\n",
              "        }\n",
              "      </script>\n",
              "    </div>\n",
              "  </div>\n",
              "  "
            ]
          },
          "metadata": {},
          "execution_count": 72
        }
      ]
    },
    {
      "cell_type": "code",
      "source": [
        "df['Weather Type'] = df['Weather Type'].map(lambda x : x.split(\", \"))"
      ],
      "metadata": {
        "id": "m6IX98ZnrUoa"
      },
      "execution_count": 73,
      "outputs": []
    },
    {
      "cell_type": "code",
      "source": [
        "from sklearn.preprocessing import MultiLabelBinarizer\n",
        "\n",
        "mlb = MultiLabelBinarizer()\n",
        "\n",
        "transformed_data = mlb.fit_transform(df['Weather Type'])\n",
        "\n",
        "transformed_df = pd.DataFrame(transformed_data, columns=mlb.classes_)"
      ],
      "metadata": {
        "id": "ajQNkHG-rUq-"
      },
      "execution_count": 74,
      "outputs": []
    },
    {
      "cell_type": "code",
      "source": [
        "df.shape, transformed_df.shape"
      ],
      "metadata": {
        "colab": {
          "base_uri": "https://localhost:8080/"
        },
        "id": "b_E24jp8Q0Kn",
        "outputId": "2eacdae5-6c73-4b1f-856a-245d761af133"
      },
      "execution_count": 75,
      "outputs": [
        {
          "output_type": "execute_result",
          "data": {
            "text/plain": [
              "((52700, 15), (52700, 19))"
            ]
          },
          "metadata": {},
          "execution_count": 75
        }
      ]
    },
    {
      "cell_type": "code",
      "source": [
        "transformed_df.head()"
      ],
      "metadata": {
        "colab": {
          "base_uri": "https://localhost:8080/",
          "height": 322
        },
        "id": "3sPVc_sPQ_Rx",
        "outputId": "a593180a-9eec-452c-b7ac-cb9af021220c"
      },
      "execution_count": 76,
      "outputs": [
        {
          "output_type": "execute_result",
          "data": {
            "text/plain": [
              "   Drizzle  Dust storm  Fog  Heavy Rain  Light Drizzle  Light Rain  \\\n",
              "0        0           0    0           0              0           0   \n",
              "1        0           0    0           0              0           0   \n",
              "2        0           0    1           0              0           0   \n",
              "3        0           0    0           0              0           0   \n",
              "4        0           0    0           0              0           0   \n",
              "\n",
              "   Light Snow  Lightning Without Thunder  Mist  Precipitation In Vicinity  \\\n",
              "0           0                          0     1                          0   \n",
              "1           0                          0     1                          0   \n",
              "2           0                          0     1                          0   \n",
              "3           0                          0     1                          0   \n",
              "4           0                          0     1                          0   \n",
              "\n",
              "   Rain  Rain Showers  Sky Coverage Decreasing  Sky Coverage Increasing  \\\n",
              "0     0             0                        0                        0   \n",
              "1     0             0                        0                        0   \n",
              "2     0             0                        0                        0   \n",
              "3     0             0                        0                        0   \n",
              "4     0             0                        0                        0   \n",
              "\n",
              "   Sky Unchanged  Smoke Or Haze  Snow And Rain Showers  Thunderstorm  \\\n",
              "0              0              0                      0             0   \n",
              "1              0              0                      0             0   \n",
              "2              0              0                      0             0   \n",
              "3              0              0                      0             0   \n",
              "4              0              0                      0             0   \n",
              "\n",
              "   Thunderstorm Without Precipitation  \n",
              "0                                   0  \n",
              "1                                   0  \n",
              "2                                   0  \n",
              "3                                   0  \n",
              "4                                   0  "
            ],
            "text/html": [
              "\n",
              "  <div id=\"df-a2b1b799-ce9b-4298-9105-7461ce38c6ed\">\n",
              "    <div class=\"colab-df-container\">\n",
              "      <div>\n",
              "<style scoped>\n",
              "    .dataframe tbody tr th:only-of-type {\n",
              "        vertical-align: middle;\n",
              "    }\n",
              "\n",
              "    .dataframe tbody tr th {\n",
              "        vertical-align: top;\n",
              "    }\n",
              "\n",
              "    .dataframe thead th {\n",
              "        text-align: right;\n",
              "    }\n",
              "</style>\n",
              "<table border=\"1\" class=\"dataframe\">\n",
              "  <thead>\n",
              "    <tr style=\"text-align: right;\">\n",
              "      <th></th>\n",
              "      <th>Drizzle</th>\n",
              "      <th>Dust storm</th>\n",
              "      <th>Fog</th>\n",
              "      <th>Heavy Rain</th>\n",
              "      <th>Light Drizzle</th>\n",
              "      <th>Light Rain</th>\n",
              "      <th>Light Snow</th>\n",
              "      <th>Lightning Without Thunder</th>\n",
              "      <th>Mist</th>\n",
              "      <th>Precipitation In Vicinity</th>\n",
              "      <th>Rain</th>\n",
              "      <th>Rain Showers</th>\n",
              "      <th>Sky Coverage Decreasing</th>\n",
              "      <th>Sky Coverage Increasing</th>\n",
              "      <th>Sky Unchanged</th>\n",
              "      <th>Smoke Or Haze</th>\n",
              "      <th>Snow And Rain Showers</th>\n",
              "      <th>Thunderstorm</th>\n",
              "      <th>Thunderstorm Without Precipitation</th>\n",
              "    </tr>\n",
              "  </thead>\n",
              "  <tbody>\n",
              "    <tr>\n",
              "      <th>0</th>\n",
              "      <td>0</td>\n",
              "      <td>0</td>\n",
              "      <td>0</td>\n",
              "      <td>0</td>\n",
              "      <td>0</td>\n",
              "      <td>0</td>\n",
              "      <td>0</td>\n",
              "      <td>0</td>\n",
              "      <td>1</td>\n",
              "      <td>0</td>\n",
              "      <td>0</td>\n",
              "      <td>0</td>\n",
              "      <td>0</td>\n",
              "      <td>0</td>\n",
              "      <td>0</td>\n",
              "      <td>0</td>\n",
              "      <td>0</td>\n",
              "      <td>0</td>\n",
              "      <td>0</td>\n",
              "    </tr>\n",
              "    <tr>\n",
              "      <th>1</th>\n",
              "      <td>0</td>\n",
              "      <td>0</td>\n",
              "      <td>0</td>\n",
              "      <td>0</td>\n",
              "      <td>0</td>\n",
              "      <td>0</td>\n",
              "      <td>0</td>\n",
              "      <td>0</td>\n",
              "      <td>1</td>\n",
              "      <td>0</td>\n",
              "      <td>0</td>\n",
              "      <td>0</td>\n",
              "      <td>0</td>\n",
              "      <td>0</td>\n",
              "      <td>0</td>\n",
              "      <td>0</td>\n",
              "      <td>0</td>\n",
              "      <td>0</td>\n",
              "      <td>0</td>\n",
              "    </tr>\n",
              "    <tr>\n",
              "      <th>2</th>\n",
              "      <td>0</td>\n",
              "      <td>0</td>\n",
              "      <td>1</td>\n",
              "      <td>0</td>\n",
              "      <td>0</td>\n",
              "      <td>0</td>\n",
              "      <td>0</td>\n",
              "      <td>0</td>\n",
              "      <td>1</td>\n",
              "      <td>0</td>\n",
              "      <td>0</td>\n",
              "      <td>0</td>\n",
              "      <td>0</td>\n",
              "      <td>0</td>\n",
              "      <td>0</td>\n",
              "      <td>0</td>\n",
              "      <td>0</td>\n",
              "      <td>0</td>\n",
              "      <td>0</td>\n",
              "    </tr>\n",
              "    <tr>\n",
              "      <th>3</th>\n",
              "      <td>0</td>\n",
              "      <td>0</td>\n",
              "      <td>0</td>\n",
              "      <td>0</td>\n",
              "      <td>0</td>\n",
              "      <td>0</td>\n",
              "      <td>0</td>\n",
              "      <td>0</td>\n",
              "      <td>1</td>\n",
              "      <td>0</td>\n",
              "      <td>0</td>\n",
              "      <td>0</td>\n",
              "      <td>0</td>\n",
              "      <td>0</td>\n",
              "      <td>0</td>\n",
              "      <td>0</td>\n",
              "      <td>0</td>\n",
              "      <td>0</td>\n",
              "      <td>0</td>\n",
              "    </tr>\n",
              "    <tr>\n",
              "      <th>4</th>\n",
              "      <td>0</td>\n",
              "      <td>0</td>\n",
              "      <td>0</td>\n",
              "      <td>0</td>\n",
              "      <td>0</td>\n",
              "      <td>0</td>\n",
              "      <td>0</td>\n",
              "      <td>0</td>\n",
              "      <td>1</td>\n",
              "      <td>0</td>\n",
              "      <td>0</td>\n",
              "      <td>0</td>\n",
              "      <td>0</td>\n",
              "      <td>0</td>\n",
              "      <td>0</td>\n",
              "      <td>0</td>\n",
              "      <td>0</td>\n",
              "      <td>0</td>\n",
              "      <td>0</td>\n",
              "    </tr>\n",
              "  </tbody>\n",
              "</table>\n",
              "</div>\n",
              "      <button class=\"colab-df-convert\" onclick=\"convertToInteractive('df-a2b1b799-ce9b-4298-9105-7461ce38c6ed')\"\n",
              "              title=\"Convert this dataframe to an interactive table.\"\n",
              "              style=\"display:none;\">\n",
              "        \n",
              "  <svg xmlns=\"http://www.w3.org/2000/svg\" height=\"24px\"viewBox=\"0 0 24 24\"\n",
              "       width=\"24px\">\n",
              "    <path d=\"M0 0h24v24H0V0z\" fill=\"none\"/>\n",
              "    <path d=\"M18.56 5.44l.94 2.06.94-2.06 2.06-.94-2.06-.94-.94-2.06-.94 2.06-2.06.94zm-11 1L8.5 8.5l.94-2.06 2.06-.94-2.06-.94L8.5 2.5l-.94 2.06-2.06.94zm10 10l.94 2.06.94-2.06 2.06-.94-2.06-.94-.94-2.06-.94 2.06-2.06.94z\"/><path d=\"M17.41 7.96l-1.37-1.37c-.4-.4-.92-.59-1.43-.59-.52 0-1.04.2-1.43.59L10.3 9.45l-7.72 7.72c-.78.78-.78 2.05 0 2.83L4 21.41c.39.39.9.59 1.41.59.51 0 1.02-.2 1.41-.59l7.78-7.78 2.81-2.81c.8-.78.8-2.07 0-2.86zM5.41 20L4 18.59l7.72-7.72 1.47 1.35L5.41 20z\"/>\n",
              "  </svg>\n",
              "      </button>\n",
              "      \n",
              "  <style>\n",
              "    .colab-df-container {\n",
              "      display:flex;\n",
              "      flex-wrap:wrap;\n",
              "      gap: 12px;\n",
              "    }\n",
              "\n",
              "    .colab-df-convert {\n",
              "      background-color: #E8F0FE;\n",
              "      border: none;\n",
              "      border-radius: 50%;\n",
              "      cursor: pointer;\n",
              "      display: none;\n",
              "      fill: #1967D2;\n",
              "      height: 32px;\n",
              "      padding: 0 0 0 0;\n",
              "      width: 32px;\n",
              "    }\n",
              "\n",
              "    .colab-df-convert:hover {\n",
              "      background-color: #E2EBFA;\n",
              "      box-shadow: 0px 1px 2px rgba(60, 64, 67, 0.3), 0px 1px 3px 1px rgba(60, 64, 67, 0.15);\n",
              "      fill: #174EA6;\n",
              "    }\n",
              "\n",
              "    [theme=dark] .colab-df-convert {\n",
              "      background-color: #3B4455;\n",
              "      fill: #D2E3FC;\n",
              "    }\n",
              "\n",
              "    [theme=dark] .colab-df-convert:hover {\n",
              "      background-color: #434B5C;\n",
              "      box-shadow: 0px 1px 3px 1px rgba(0, 0, 0, 0.15);\n",
              "      filter: drop-shadow(0px 1px 2px rgba(0, 0, 0, 0.3));\n",
              "      fill: #FFFFFF;\n",
              "    }\n",
              "  </style>\n",
              "\n",
              "      <script>\n",
              "        const buttonEl =\n",
              "          document.querySelector('#df-a2b1b799-ce9b-4298-9105-7461ce38c6ed button.colab-df-convert');\n",
              "        buttonEl.style.display =\n",
              "          google.colab.kernel.accessAllowed ? 'block' : 'none';\n",
              "\n",
              "        async function convertToInteractive(key) {\n",
              "          const element = document.querySelector('#df-a2b1b799-ce9b-4298-9105-7461ce38c6ed');\n",
              "          const dataTable =\n",
              "            await google.colab.kernel.invokeFunction('convertToInteractive',\n",
              "                                                     [key], {});\n",
              "          if (!dataTable) return;\n",
              "\n",
              "          const docLinkHtml = 'Like what you see? Visit the ' +\n",
              "            '<a target=\"_blank\" href=https://colab.research.google.com/notebooks/data_table.ipynb>data table notebook</a>'\n",
              "            + ' to learn more about interactive tables.';\n",
              "          element.innerHTML = '';\n",
              "          dataTable['output_type'] = 'display_data';\n",
              "          await google.colab.output.renderOutput(dataTable, element);\n",
              "          const docLink = document.createElement('div');\n",
              "          docLink.innerHTML = docLinkHtml;\n",
              "          element.appendChild(docLink);\n",
              "        }\n",
              "      </script>\n",
              "    </div>\n",
              "  </div>\n",
              "  "
            ]
          },
          "metadata": {},
          "execution_count": 76
        }
      ]
    },
    {
      "cell_type": "code",
      "source": [
        "df = df.merge(transformed_df, left_index=True, right_index=True)"
      ],
      "metadata": {
        "id": "Nv5b8yFirJPW"
      },
      "execution_count": 82,
      "outputs": []
    },
    {
      "cell_type": "code",
      "source": [
        "df = df.drop('Weather Type', axis=1)"
      ],
      "metadata": {
        "id": "TMhiqyn-SBIv"
      },
      "execution_count": 83,
      "outputs": []
    },
    {
      "cell_type": "code",
      "source": [
        "df.isnull().mean()"
      ],
      "metadata": {
        "colab": {
          "base_uri": "https://localhost:8080/"
        },
        "id": "ljgaWUaHSBLX",
        "outputId": "1f275853-ef5f-41ee-b039-fe8f6b738662"
      },
      "execution_count": 85,
      "outputs": [
        {
          "output_type": "execute_result",
          "data": {
            "text/plain": [
              "Minimum Temperature                   0.0\n",
              "Maximum Temperature                   0.0\n",
              "Temperature                           0.0\n",
              "Dew Point                             0.0\n",
              "Relative Humidity                     0.0\n",
              "Heat Index                            0.0\n",
              "Wind Speed                            0.0\n",
              "Wind Direction                        0.0\n",
              "Visibility                            0.0\n",
              "Cloud Cover                           0.0\n",
              "Sea Level Pressure                    0.0\n",
              "Conditions                            0.0\n",
              "Month                                 0.0\n",
              "Hour                                  0.0\n",
              "Drizzle                               0.0\n",
              "Dust storm                            0.0\n",
              "Fog                                   0.0\n",
              "Heavy Rain                            0.0\n",
              "Light Drizzle                         0.0\n",
              "Light Rain                            0.0\n",
              "Light Snow                            0.0\n",
              "Lightning Without Thunder             0.0\n",
              "Mist                                  0.0\n",
              "Precipitation In Vicinity             0.0\n",
              "Rain                                  0.0\n",
              "Rain Showers                          0.0\n",
              "Sky Coverage Decreasing               0.0\n",
              "Sky Coverage Increasing               0.0\n",
              "Sky Unchanged                         0.0\n",
              "Smoke Or Haze                         0.0\n",
              "Snow And Rain Showers                 0.0\n",
              "Thunderstorm                          0.0\n",
              "Thunderstorm Without Precipitation    0.0\n",
              "dtype: float64"
            ]
          },
          "metadata": {},
          "execution_count": 85
        }
      ]
    },
    {
      "cell_type": "code",
      "source": [
        "df.isna().mean()"
      ],
      "metadata": {
        "colab": {
          "base_uri": "https://localhost:8080/"
        },
        "id": "wXKb5A_bSBO0",
        "outputId": "7300fa25-3f60-4925-fdba-985507b9ec12"
      },
      "execution_count": 86,
      "outputs": [
        {
          "output_type": "execute_result",
          "data": {
            "text/plain": [
              "Minimum Temperature                   0.0\n",
              "Maximum Temperature                   0.0\n",
              "Temperature                           0.0\n",
              "Dew Point                             0.0\n",
              "Relative Humidity                     0.0\n",
              "Heat Index                            0.0\n",
              "Wind Speed                            0.0\n",
              "Wind Direction                        0.0\n",
              "Visibility                            0.0\n",
              "Cloud Cover                           0.0\n",
              "Sea Level Pressure                    0.0\n",
              "Conditions                            0.0\n",
              "Month                                 0.0\n",
              "Hour                                  0.0\n",
              "Drizzle                               0.0\n",
              "Dust storm                            0.0\n",
              "Fog                                   0.0\n",
              "Heavy Rain                            0.0\n",
              "Light Drizzle                         0.0\n",
              "Light Rain                            0.0\n",
              "Light Snow                            0.0\n",
              "Lightning Without Thunder             0.0\n",
              "Mist                                  0.0\n",
              "Precipitation In Vicinity             0.0\n",
              "Rain                                  0.0\n",
              "Rain Showers                          0.0\n",
              "Sky Coverage Decreasing               0.0\n",
              "Sky Coverage Increasing               0.0\n",
              "Sky Unchanged                         0.0\n",
              "Smoke Or Haze                         0.0\n",
              "Snow And Rain Showers                 0.0\n",
              "Thunderstorm                          0.0\n",
              "Thunderstorm Without Precipitation    0.0\n",
              "dtype: float64"
            ]
          },
          "metadata": {},
          "execution_count": 86
        }
      ]
    },
    {
      "cell_type": "code",
      "source": [
        "df.duplicated().sum()"
      ],
      "metadata": {
        "colab": {
          "base_uri": "https://localhost:8080/"
        },
        "id": "vBZ6GOoGx3UI",
        "outputId": "d2c944e7-7421-4996-eef4-b5f3237fa051"
      },
      "execution_count": 88,
      "outputs": [
        {
          "output_type": "execute_result",
          "data": {
            "text/plain": [
              "547"
            ]
          },
          "metadata": {},
          "execution_count": 88
        }
      ]
    },
    {
      "cell_type": "code",
      "source": [
        "df = df.drop_duplicates()"
      ],
      "metadata": {
        "id": "sT3K6oNRx9AI"
      },
      "execution_count": 90,
      "outputs": []
    },
    {
      "cell_type": "code",
      "source": [
        "from sklearn.model_selection import train_test_split"
      ],
      "metadata": {
        "id": "bk2WdDegyI8g"
      },
      "execution_count": 92,
      "outputs": []
    },
    {
      "cell_type": "code",
      "source": [
        "X_train, X_test, y_train, y_test = train_test_split(df.drop('Conditions', axis=1), df['Conditions'], test_size=0.2, random_state=100)"
      ],
      "metadata": {
        "id": "aPq-tu7AyHCQ"
      },
      "execution_count": 98,
      "outputs": []
    },
    {
      "cell_type": "code",
      "source": [
        "X_train.shape, X_test.shape, y_train.shape, y_test.shape"
      ],
      "metadata": {
        "colab": {
          "base_uri": "https://localhost:8080/"
        },
        "id": "1BxlTSjOy-mV",
        "outputId": "8ab848ee-c54e-4125-c41a-acf92b83fb7a"
      },
      "execution_count": 99,
      "outputs": [
        {
          "output_type": "execute_result",
          "data": {
            "text/plain": [
              "((41722, 32), (10431, 32), (41722,), (10431,))"
            ]
          },
          "metadata": {},
          "execution_count": 99
        }
      ]
    },
    {
      "cell_type": "code",
      "source": [
        "X_train.head(3)"
      ],
      "metadata": {
        "colab": {
          "base_uri": "https://localhost:8080/",
          "height": 260
        },
        "id": "0Qwdq4lszBLe",
        "outputId": "5ce4f632-eb4e-4946-e0f3-e62ae41905e9"
      },
      "execution_count": 102,
      "outputs": [
        {
          "output_type": "execute_result",
          "data": {
            "text/plain": [
              "       Minimum Temperature  Maximum Temperature  Temperature  Dew Point  \\\n",
              "6083                  84.2                 84.2         84.2       78.8   \n",
              "4734                  87.9                 87.9         87.9       77.4   \n",
              "21926                 89.6                 89.6         89.6       82.4   \n",
              "\n",
              "       Relative Humidity  Heat Index  Wind Speed  Wind Direction  Visibility  \\\n",
              "6083               83.90        96.1         5.8           170.0         2.5   \n",
              "4734               71.36       100.6         3.0           146.0         2.5   \n",
              "21926              79.47       111.4        10.3            90.0         2.5   \n",
              "\n",
              "       Cloud Cover  Sea Level Pressure  Month  Hour  Drizzle  Dust storm  Fog  \\\n",
              "6083          37.3              1007.0      9    22        0           0    0   \n",
              "4734          18.4               999.2      7    20        0           0    0   \n",
              "21926         37.3               993.0      7    15        0           0    0   \n",
              "\n",
              "       Heavy Rain  Light Drizzle  Light Rain  Light Snow  \\\n",
              "6083            0              0           0           0   \n",
              "4734            0              0           0           0   \n",
              "21926           0              0           0           0   \n",
              "\n",
              "       Lightning Without Thunder  Mist  Precipitation In Vicinity  Rain  \\\n",
              "6083                           0     0                          0     0   \n",
              "4734                           0     0                          0     0   \n",
              "21926                          0     0                          0     0   \n",
              "\n",
              "       Rain Showers  Sky Coverage Decreasing  Sky Coverage Increasing  \\\n",
              "6083              0                        0                        0   \n",
              "4734              0                        0                        0   \n",
              "21926             0                        0                        0   \n",
              "\n",
              "       Sky Unchanged  Smoke Or Haze  Snow And Rain Showers  Thunderstorm  \\\n",
              "6083               0              1                      0             0   \n",
              "4734               0              1                      0             0   \n",
              "21926              0              1                      0             0   \n",
              "\n",
              "       Thunderstorm Without Precipitation  \n",
              "6083                                    0  \n",
              "4734                                    0  \n",
              "21926                                   0  "
            ],
            "text/html": [
              "\n",
              "  <div id=\"df-ce9d8318-d3c4-429f-84a1-1df07a8f3a16\">\n",
              "    <div class=\"colab-df-container\">\n",
              "      <div>\n",
              "<style scoped>\n",
              "    .dataframe tbody tr th:only-of-type {\n",
              "        vertical-align: middle;\n",
              "    }\n",
              "\n",
              "    .dataframe tbody tr th {\n",
              "        vertical-align: top;\n",
              "    }\n",
              "\n",
              "    .dataframe thead th {\n",
              "        text-align: right;\n",
              "    }\n",
              "</style>\n",
              "<table border=\"1\" class=\"dataframe\">\n",
              "  <thead>\n",
              "    <tr style=\"text-align: right;\">\n",
              "      <th></th>\n",
              "      <th>Minimum Temperature</th>\n",
              "      <th>Maximum Temperature</th>\n",
              "      <th>Temperature</th>\n",
              "      <th>Dew Point</th>\n",
              "      <th>Relative Humidity</th>\n",
              "      <th>Heat Index</th>\n",
              "      <th>Wind Speed</th>\n",
              "      <th>Wind Direction</th>\n",
              "      <th>Visibility</th>\n",
              "      <th>Cloud Cover</th>\n",
              "      <th>Sea Level Pressure</th>\n",
              "      <th>Month</th>\n",
              "      <th>Hour</th>\n",
              "      <th>Drizzle</th>\n",
              "      <th>Dust storm</th>\n",
              "      <th>Fog</th>\n",
              "      <th>Heavy Rain</th>\n",
              "      <th>Light Drizzle</th>\n",
              "      <th>Light Rain</th>\n",
              "      <th>Light Snow</th>\n",
              "      <th>Lightning Without Thunder</th>\n",
              "      <th>Mist</th>\n",
              "      <th>Precipitation In Vicinity</th>\n",
              "      <th>Rain</th>\n",
              "      <th>Rain Showers</th>\n",
              "      <th>Sky Coverage Decreasing</th>\n",
              "      <th>Sky Coverage Increasing</th>\n",
              "      <th>Sky Unchanged</th>\n",
              "      <th>Smoke Or Haze</th>\n",
              "      <th>Snow And Rain Showers</th>\n",
              "      <th>Thunderstorm</th>\n",
              "      <th>Thunderstorm Without Precipitation</th>\n",
              "    </tr>\n",
              "  </thead>\n",
              "  <tbody>\n",
              "    <tr>\n",
              "      <th>6083</th>\n",
              "      <td>84.2</td>\n",
              "      <td>84.2</td>\n",
              "      <td>84.2</td>\n",
              "      <td>78.8</td>\n",
              "      <td>83.90</td>\n",
              "      <td>96.1</td>\n",
              "      <td>5.8</td>\n",
              "      <td>170.0</td>\n",
              "      <td>2.5</td>\n",
              "      <td>37.3</td>\n",
              "      <td>1007.0</td>\n",
              "      <td>9</td>\n",
              "      <td>22</td>\n",
              "      <td>0</td>\n",
              "      <td>0</td>\n",
              "      <td>0</td>\n",
              "      <td>0</td>\n",
              "      <td>0</td>\n",
              "      <td>0</td>\n",
              "      <td>0</td>\n",
              "      <td>0</td>\n",
              "      <td>0</td>\n",
              "      <td>0</td>\n",
              "      <td>0</td>\n",
              "      <td>0</td>\n",
              "      <td>0</td>\n",
              "      <td>0</td>\n",
              "      <td>0</td>\n",
              "      <td>1</td>\n",
              "      <td>0</td>\n",
              "      <td>0</td>\n",
              "      <td>0</td>\n",
              "    </tr>\n",
              "    <tr>\n",
              "      <th>4734</th>\n",
              "      <td>87.9</td>\n",
              "      <td>87.9</td>\n",
              "      <td>87.9</td>\n",
              "      <td>77.4</td>\n",
              "      <td>71.36</td>\n",
              "      <td>100.6</td>\n",
              "      <td>3.0</td>\n",
              "      <td>146.0</td>\n",
              "      <td>2.5</td>\n",
              "      <td>18.4</td>\n",
              "      <td>999.2</td>\n",
              "      <td>7</td>\n",
              "      <td>20</td>\n",
              "      <td>0</td>\n",
              "      <td>0</td>\n",
              "      <td>0</td>\n",
              "      <td>0</td>\n",
              "      <td>0</td>\n",
              "      <td>0</td>\n",
              "      <td>0</td>\n",
              "      <td>0</td>\n",
              "      <td>0</td>\n",
              "      <td>0</td>\n",
              "      <td>0</td>\n",
              "      <td>0</td>\n",
              "      <td>0</td>\n",
              "      <td>0</td>\n",
              "      <td>0</td>\n",
              "      <td>1</td>\n",
              "      <td>0</td>\n",
              "      <td>0</td>\n",
              "      <td>0</td>\n",
              "    </tr>\n",
              "    <tr>\n",
              "      <th>21926</th>\n",
              "      <td>89.6</td>\n",
              "      <td>89.6</td>\n",
              "      <td>89.6</td>\n",
              "      <td>82.4</td>\n",
              "      <td>79.47</td>\n",
              "      <td>111.4</td>\n",
              "      <td>10.3</td>\n",
              "      <td>90.0</td>\n",
              "      <td>2.5</td>\n",
              "      <td>37.3</td>\n",
              "      <td>993.0</td>\n",
              "      <td>7</td>\n",
              "      <td>15</td>\n",
              "      <td>0</td>\n",
              "      <td>0</td>\n",
              "      <td>0</td>\n",
              "      <td>0</td>\n",
              "      <td>0</td>\n",
              "      <td>0</td>\n",
              "      <td>0</td>\n",
              "      <td>0</td>\n",
              "      <td>0</td>\n",
              "      <td>0</td>\n",
              "      <td>0</td>\n",
              "      <td>0</td>\n",
              "      <td>0</td>\n",
              "      <td>0</td>\n",
              "      <td>0</td>\n",
              "      <td>1</td>\n",
              "      <td>0</td>\n",
              "      <td>0</td>\n",
              "      <td>0</td>\n",
              "    </tr>\n",
              "  </tbody>\n",
              "</table>\n",
              "</div>\n",
              "      <button class=\"colab-df-convert\" onclick=\"convertToInteractive('df-ce9d8318-d3c4-429f-84a1-1df07a8f3a16')\"\n",
              "              title=\"Convert this dataframe to an interactive table.\"\n",
              "              style=\"display:none;\">\n",
              "        \n",
              "  <svg xmlns=\"http://www.w3.org/2000/svg\" height=\"24px\"viewBox=\"0 0 24 24\"\n",
              "       width=\"24px\">\n",
              "    <path d=\"M0 0h24v24H0V0z\" fill=\"none\"/>\n",
              "    <path d=\"M18.56 5.44l.94 2.06.94-2.06 2.06-.94-2.06-.94-.94-2.06-.94 2.06-2.06.94zm-11 1L8.5 8.5l.94-2.06 2.06-.94-2.06-.94L8.5 2.5l-.94 2.06-2.06.94zm10 10l.94 2.06.94-2.06 2.06-.94-2.06-.94-.94-2.06-.94 2.06-2.06.94z\"/><path d=\"M17.41 7.96l-1.37-1.37c-.4-.4-.92-.59-1.43-.59-.52 0-1.04.2-1.43.59L10.3 9.45l-7.72 7.72c-.78.78-.78 2.05 0 2.83L4 21.41c.39.39.9.59 1.41.59.51 0 1.02-.2 1.41-.59l7.78-7.78 2.81-2.81c.8-.78.8-2.07 0-2.86zM5.41 20L4 18.59l7.72-7.72 1.47 1.35L5.41 20z\"/>\n",
              "  </svg>\n",
              "      </button>\n",
              "      \n",
              "  <style>\n",
              "    .colab-df-container {\n",
              "      display:flex;\n",
              "      flex-wrap:wrap;\n",
              "      gap: 12px;\n",
              "    }\n",
              "\n",
              "    .colab-df-convert {\n",
              "      background-color: #E8F0FE;\n",
              "      border: none;\n",
              "      border-radius: 50%;\n",
              "      cursor: pointer;\n",
              "      display: none;\n",
              "      fill: #1967D2;\n",
              "      height: 32px;\n",
              "      padding: 0 0 0 0;\n",
              "      width: 32px;\n",
              "    }\n",
              "\n",
              "    .colab-df-convert:hover {\n",
              "      background-color: #E2EBFA;\n",
              "      box-shadow: 0px 1px 2px rgba(60, 64, 67, 0.3), 0px 1px 3px 1px rgba(60, 64, 67, 0.15);\n",
              "      fill: #174EA6;\n",
              "    }\n",
              "\n",
              "    [theme=dark] .colab-df-convert {\n",
              "      background-color: #3B4455;\n",
              "      fill: #D2E3FC;\n",
              "    }\n",
              "\n",
              "    [theme=dark] .colab-df-convert:hover {\n",
              "      background-color: #434B5C;\n",
              "      box-shadow: 0px 1px 3px 1px rgba(0, 0, 0, 0.15);\n",
              "      filter: drop-shadow(0px 1px 2px rgba(0, 0, 0, 0.3));\n",
              "      fill: #FFFFFF;\n",
              "    }\n",
              "  </style>\n",
              "\n",
              "      <script>\n",
              "        const buttonEl =\n",
              "          document.querySelector('#df-ce9d8318-d3c4-429f-84a1-1df07a8f3a16 button.colab-df-convert');\n",
              "        buttonEl.style.display =\n",
              "          google.colab.kernel.accessAllowed ? 'block' : 'none';\n",
              "\n",
              "        async function convertToInteractive(key) {\n",
              "          const element = document.querySelector('#df-ce9d8318-d3c4-429f-84a1-1df07a8f3a16');\n",
              "          const dataTable =\n",
              "            await google.colab.kernel.invokeFunction('convertToInteractive',\n",
              "                                                     [key], {});\n",
              "          if (!dataTable) return;\n",
              "\n",
              "          const docLinkHtml = 'Like what you see? Visit the ' +\n",
              "            '<a target=\"_blank\" href=https://colab.research.google.com/notebooks/data_table.ipynb>data table notebook</a>'\n",
              "            + ' to learn more about interactive tables.';\n",
              "          element.innerHTML = '';\n",
              "          dataTable['output_type'] = 'display_data';\n",
              "          await google.colab.output.renderOutput(dataTable, element);\n",
              "          const docLink = document.createElement('div');\n",
              "          docLink.innerHTML = docLinkHtml;\n",
              "          element.appendChild(docLink);\n",
              "        }\n",
              "      </script>\n",
              "    </div>\n",
              "  </div>\n",
              "  "
            ]
          },
          "metadata": {},
          "execution_count": 102
        }
      ]
    },
    {
      "cell_type": "code",
      "source": [
        "y_train.head(3)"
      ],
      "metadata": {
        "colab": {
          "base_uri": "https://localhost:8080/"
        },
        "id": "6VtfissvzITN",
        "outputId": "72b7a750-02ab-45d4-f436-f3f2a280743e"
      },
      "execution_count": 104,
      "outputs": [
        {
          "output_type": "execute_result",
          "data": {
            "text/plain": [
              "6083     Partially cloudy\n",
              "4734                Clear\n",
              "21926    Partially cloudy\n",
              "Name: Conditions, dtype: object"
            ]
          },
          "metadata": {},
          "execution_count": 104
        }
      ]
    },
    {
      "cell_type": "code",
      "source": [
        "from sklearn.preprocessing import StandardScaler\n",
        "\n",
        "\n",
        "scaler = StandardScaler()"
      ],
      "metadata": {
        "id": "AecMa4p9SBVt"
      },
      "execution_count": 105,
      "outputs": []
    },
    {
      "cell_type": "code",
      "source": [
        "X_train = scaler.fit_transform(X_train)\n",
        "X_test = scaler.transform(X_test)"
      ],
      "metadata": {
        "id": "mWgBPL7_SBa6"
      },
      "execution_count": 106,
      "outputs": []
    },
    {
      "cell_type": "code",
      "source": [
        "from sklearn.preprocessing import LabelEncoder\n",
        "\n",
        "encoder = LabelEncoder()"
      ],
      "metadata": {
        "id": "6XkgWJ1GTC0-"
      },
      "execution_count": 107,
      "outputs": []
    },
    {
      "cell_type": "code",
      "source": [
        "y_train = encoder.fit_transform(y_train)\n",
        "y_test = encoder.transform(y_test)"
      ],
      "metadata": {
        "id": "RSSOqxDkTC4E"
      },
      "execution_count": 108,
      "outputs": []
    },
    {
      "cell_type": "code",
      "source": [
        "y_train[:10]"
      ],
      "metadata": {
        "colab": {
          "base_uri": "https://localhost:8080/"
        },
        "id": "A_dQZqbXTDAw",
        "outputId": "cb963783-bd4b-4ded-dc44-d8b69fa3976b"
      },
      "execution_count": 112,
      "outputs": [
        {
          "output_type": "execute_result",
          "data": {
            "text/plain": [
              "array([2, 0, 2, 0, 0, 0, 2, 0, 0, 2])"
            ]
          },
          "metadata": {},
          "execution_count": 112
        }
      ]
    },
    {
      "cell_type": "markdown",
      "source": [
        "#KNN"
      ],
      "metadata": {
        "id": "X_05R_8TTm_L"
      }
    },
    {
      "cell_type": "code",
      "source": [
        "from sklearn.neighbors import KNeighborsClassifier\n",
        "knn_model = KNeighborsClassifier(n_neighbors=5)"
      ],
      "metadata": {
        "id": "FBYSsbOzTllc"
      },
      "execution_count": 113,
      "outputs": []
    },
    {
      "cell_type": "code",
      "source": [
        "knn_model.fit(X_train, y_train)"
      ],
      "metadata": {
        "id": "Aaac3uMNTloq",
        "colab": {
          "base_uri": "https://localhost:8080/",
          "height": 75
        },
        "outputId": "d2404551-0e37-4433-b91a-439545e6deaf"
      },
      "execution_count": 114,
      "outputs": [
        {
          "output_type": "execute_result",
          "data": {
            "text/plain": [
              "KNeighborsClassifier()"
            ],
            "text/html": [
              "<style>#sk-container-id-1 {color: black;background-color: white;}#sk-container-id-1 pre{padding: 0;}#sk-container-id-1 div.sk-toggleable {background-color: white;}#sk-container-id-1 label.sk-toggleable__label {cursor: pointer;display: block;width: 100%;margin-bottom: 0;padding: 0.3em;box-sizing: border-box;text-align: center;}#sk-container-id-1 label.sk-toggleable__label-arrow:before {content: \"▸\";float: left;margin-right: 0.25em;color: #696969;}#sk-container-id-1 label.sk-toggleable__label-arrow:hover:before {color: black;}#sk-container-id-1 div.sk-estimator:hover label.sk-toggleable__label-arrow:before {color: black;}#sk-container-id-1 div.sk-toggleable__content {max-height: 0;max-width: 0;overflow: hidden;text-align: left;background-color: #f0f8ff;}#sk-container-id-1 div.sk-toggleable__content pre {margin: 0.2em;color: black;border-radius: 0.25em;background-color: #f0f8ff;}#sk-container-id-1 input.sk-toggleable__control:checked~div.sk-toggleable__content {max-height: 200px;max-width: 100%;overflow: auto;}#sk-container-id-1 input.sk-toggleable__control:checked~label.sk-toggleable__label-arrow:before {content: \"▾\";}#sk-container-id-1 div.sk-estimator input.sk-toggleable__control:checked~label.sk-toggleable__label {background-color: #d4ebff;}#sk-container-id-1 div.sk-label input.sk-toggleable__control:checked~label.sk-toggleable__label {background-color: #d4ebff;}#sk-container-id-1 input.sk-hidden--visually {border: 0;clip: rect(1px 1px 1px 1px);clip: rect(1px, 1px, 1px, 1px);height: 1px;margin: -1px;overflow: hidden;padding: 0;position: absolute;width: 1px;}#sk-container-id-1 div.sk-estimator {font-family: monospace;background-color: #f0f8ff;border: 1px dotted black;border-radius: 0.25em;box-sizing: border-box;margin-bottom: 0.5em;}#sk-container-id-1 div.sk-estimator:hover {background-color: #d4ebff;}#sk-container-id-1 div.sk-parallel-item::after {content: \"\";width: 100%;border-bottom: 1px solid gray;flex-grow: 1;}#sk-container-id-1 div.sk-label:hover label.sk-toggleable__label {background-color: #d4ebff;}#sk-container-id-1 div.sk-serial::before {content: \"\";position: absolute;border-left: 1px solid gray;box-sizing: border-box;top: 0;bottom: 0;left: 50%;z-index: 0;}#sk-container-id-1 div.sk-serial {display: flex;flex-direction: column;align-items: center;background-color: white;padding-right: 0.2em;padding-left: 0.2em;position: relative;}#sk-container-id-1 div.sk-item {position: relative;z-index: 1;}#sk-container-id-1 div.sk-parallel {display: flex;align-items: stretch;justify-content: center;background-color: white;position: relative;}#sk-container-id-1 div.sk-item::before, #sk-container-id-1 div.sk-parallel-item::before {content: \"\";position: absolute;border-left: 1px solid gray;box-sizing: border-box;top: 0;bottom: 0;left: 50%;z-index: -1;}#sk-container-id-1 div.sk-parallel-item {display: flex;flex-direction: column;z-index: 1;position: relative;background-color: white;}#sk-container-id-1 div.sk-parallel-item:first-child::after {align-self: flex-end;width: 50%;}#sk-container-id-1 div.sk-parallel-item:last-child::after {align-self: flex-start;width: 50%;}#sk-container-id-1 div.sk-parallel-item:only-child::after {width: 0;}#sk-container-id-1 div.sk-dashed-wrapped {border: 1px dashed gray;margin: 0 0.4em 0.5em 0.4em;box-sizing: border-box;padding-bottom: 0.4em;background-color: white;}#sk-container-id-1 div.sk-label label {font-family: monospace;font-weight: bold;display: inline-block;line-height: 1.2em;}#sk-container-id-1 div.sk-label-container {text-align: center;}#sk-container-id-1 div.sk-container {/* jupyter's `normalize.less` sets `[hidden] { display: none; }` but bootstrap.min.css set `[hidden] { display: none !important; }` so we also need the `!important` here to be able to override the default hidden behavior on the sphinx rendered scikit-learn.org. See: https://github.com/scikit-learn/scikit-learn/issues/21755 */display: inline-block !important;position: relative;}#sk-container-id-1 div.sk-text-repr-fallback {display: none;}</style><div id=\"sk-container-id-1\" class=\"sk-top-container\"><div class=\"sk-text-repr-fallback\"><pre>KNeighborsClassifier()</pre><b>In a Jupyter environment, please rerun this cell to show the HTML representation or trust the notebook. <br />On GitHub, the HTML representation is unable to render, please try loading this page with nbviewer.org.</b></div><div class=\"sk-container\" hidden><div class=\"sk-item\"><div class=\"sk-estimator sk-toggleable\"><input class=\"sk-toggleable__control sk-hidden--visually\" id=\"sk-estimator-id-1\" type=\"checkbox\" checked><label for=\"sk-estimator-id-1\" class=\"sk-toggleable__label sk-toggleable__label-arrow\">KNeighborsClassifier</label><div class=\"sk-toggleable__content\"><pre>KNeighborsClassifier()</pre></div></div></div></div></div>"
            ]
          },
          "metadata": {},
          "execution_count": 114
        }
      ]
    },
    {
      "cell_type": "code",
      "source": [
        "y_pred = knn_model.predict(X_test)"
      ],
      "metadata": {
        "id": "0fyhn6tczrDN"
      },
      "execution_count": 115,
      "outputs": []
    },
    {
      "cell_type": "code",
      "source": [
        "from sklearn.metrics import accuracy_score\n",
        "print(accuracy_score(y_test, y_pred)*100)"
      ],
      "metadata": {
        "id": "i8teMHskTls4",
        "colab": {
          "base_uri": "https://localhost:8080/"
        },
        "outputId": "683993d9-97fc-4a34-8df7-a071cb36e051"
      },
      "execution_count": 117,
      "outputs": [
        {
          "output_type": "stream",
          "name": "stdout",
          "text": [
            "90.81583740772696\n"
          ]
        }
      ]
    },
    {
      "cell_type": "code",
      "source": [
        "from sklearn.model_selection import GridSearchCV\n",
        "\n",
        "param_grid = {\n",
        "    'n_neighbors': [3, 5, 7, 9, 11, 13, 15],\n",
        "    'weights': ['uniform', 'distance'],\n",
        "}\n",
        "\n",
        "grid_search = GridSearchCV(knn_model, param_grid, cv=5)"
      ],
      "metadata": {
        "id": "vWI-T-TtTlxl"
      },
      "execution_count": 119,
      "outputs": []
    },
    {
      "cell_type": "code",
      "source": [
        "grid_search.fit(X_train, y_train)"
      ],
      "metadata": {
        "id": "1ADJTMPTTl4Y",
        "colab": {
          "base_uri": "https://localhost:8080/",
          "height": 118
        },
        "outputId": "d10a75ec-3dba-4c15-8048-b5f39f0e6da2"
      },
      "execution_count": 120,
      "outputs": [
        {
          "output_type": "execute_result",
          "data": {
            "text/plain": [
              "GridSearchCV(cv=5, estimator=KNeighborsClassifier(),\n",
              "             param_grid={'n_neighbors': [3, 5, 7, 9, 11, 13, 15],\n",
              "                         'weights': ['uniform', 'distance']})"
            ],
            "text/html": [
              "<style>#sk-container-id-2 {color: black;background-color: white;}#sk-container-id-2 pre{padding: 0;}#sk-container-id-2 div.sk-toggleable {background-color: white;}#sk-container-id-2 label.sk-toggleable__label {cursor: pointer;display: block;width: 100%;margin-bottom: 0;padding: 0.3em;box-sizing: border-box;text-align: center;}#sk-container-id-2 label.sk-toggleable__label-arrow:before {content: \"▸\";float: left;margin-right: 0.25em;color: #696969;}#sk-container-id-2 label.sk-toggleable__label-arrow:hover:before {color: black;}#sk-container-id-2 div.sk-estimator:hover label.sk-toggleable__label-arrow:before {color: black;}#sk-container-id-2 div.sk-toggleable__content {max-height: 0;max-width: 0;overflow: hidden;text-align: left;background-color: #f0f8ff;}#sk-container-id-2 div.sk-toggleable__content pre {margin: 0.2em;color: black;border-radius: 0.25em;background-color: #f0f8ff;}#sk-container-id-2 input.sk-toggleable__control:checked~div.sk-toggleable__content {max-height: 200px;max-width: 100%;overflow: auto;}#sk-container-id-2 input.sk-toggleable__control:checked~label.sk-toggleable__label-arrow:before {content: \"▾\";}#sk-container-id-2 div.sk-estimator input.sk-toggleable__control:checked~label.sk-toggleable__label {background-color: #d4ebff;}#sk-container-id-2 div.sk-label input.sk-toggleable__control:checked~label.sk-toggleable__label {background-color: #d4ebff;}#sk-container-id-2 input.sk-hidden--visually {border: 0;clip: rect(1px 1px 1px 1px);clip: rect(1px, 1px, 1px, 1px);height: 1px;margin: -1px;overflow: hidden;padding: 0;position: absolute;width: 1px;}#sk-container-id-2 div.sk-estimator {font-family: monospace;background-color: #f0f8ff;border: 1px dotted black;border-radius: 0.25em;box-sizing: border-box;margin-bottom: 0.5em;}#sk-container-id-2 div.sk-estimator:hover {background-color: #d4ebff;}#sk-container-id-2 div.sk-parallel-item::after {content: \"\";width: 100%;border-bottom: 1px solid gray;flex-grow: 1;}#sk-container-id-2 div.sk-label:hover label.sk-toggleable__label {background-color: #d4ebff;}#sk-container-id-2 div.sk-serial::before {content: \"\";position: absolute;border-left: 1px solid gray;box-sizing: border-box;top: 0;bottom: 0;left: 50%;z-index: 0;}#sk-container-id-2 div.sk-serial {display: flex;flex-direction: column;align-items: center;background-color: white;padding-right: 0.2em;padding-left: 0.2em;position: relative;}#sk-container-id-2 div.sk-item {position: relative;z-index: 1;}#sk-container-id-2 div.sk-parallel {display: flex;align-items: stretch;justify-content: center;background-color: white;position: relative;}#sk-container-id-2 div.sk-item::before, #sk-container-id-2 div.sk-parallel-item::before {content: \"\";position: absolute;border-left: 1px solid gray;box-sizing: border-box;top: 0;bottom: 0;left: 50%;z-index: -1;}#sk-container-id-2 div.sk-parallel-item {display: flex;flex-direction: column;z-index: 1;position: relative;background-color: white;}#sk-container-id-2 div.sk-parallel-item:first-child::after {align-self: flex-end;width: 50%;}#sk-container-id-2 div.sk-parallel-item:last-child::after {align-self: flex-start;width: 50%;}#sk-container-id-2 div.sk-parallel-item:only-child::after {width: 0;}#sk-container-id-2 div.sk-dashed-wrapped {border: 1px dashed gray;margin: 0 0.4em 0.5em 0.4em;box-sizing: border-box;padding-bottom: 0.4em;background-color: white;}#sk-container-id-2 div.sk-label label {font-family: monospace;font-weight: bold;display: inline-block;line-height: 1.2em;}#sk-container-id-2 div.sk-label-container {text-align: center;}#sk-container-id-2 div.sk-container {/* jupyter's `normalize.less` sets `[hidden] { display: none; }` but bootstrap.min.css set `[hidden] { display: none !important; }` so we also need the `!important` here to be able to override the default hidden behavior on the sphinx rendered scikit-learn.org. See: https://github.com/scikit-learn/scikit-learn/issues/21755 */display: inline-block !important;position: relative;}#sk-container-id-2 div.sk-text-repr-fallback {display: none;}</style><div id=\"sk-container-id-2\" class=\"sk-top-container\"><div class=\"sk-text-repr-fallback\"><pre>GridSearchCV(cv=5, estimator=KNeighborsClassifier(),\n",
              "             param_grid={&#x27;n_neighbors&#x27;: [3, 5, 7, 9, 11, 13, 15],\n",
              "                         &#x27;weights&#x27;: [&#x27;uniform&#x27;, &#x27;distance&#x27;]})</pre><b>In a Jupyter environment, please rerun this cell to show the HTML representation or trust the notebook. <br />On GitHub, the HTML representation is unable to render, please try loading this page with nbviewer.org.</b></div><div class=\"sk-container\" hidden><div class=\"sk-item sk-dashed-wrapped\"><div class=\"sk-label-container\"><div class=\"sk-label sk-toggleable\"><input class=\"sk-toggleable__control sk-hidden--visually\" id=\"sk-estimator-id-2\" type=\"checkbox\" ><label for=\"sk-estimator-id-2\" class=\"sk-toggleable__label sk-toggleable__label-arrow\">GridSearchCV</label><div class=\"sk-toggleable__content\"><pre>GridSearchCV(cv=5, estimator=KNeighborsClassifier(),\n",
              "             param_grid={&#x27;n_neighbors&#x27;: [3, 5, 7, 9, 11, 13, 15],\n",
              "                         &#x27;weights&#x27;: [&#x27;uniform&#x27;, &#x27;distance&#x27;]})</pre></div></div></div><div class=\"sk-parallel\"><div class=\"sk-parallel-item\"><div class=\"sk-item\"><div class=\"sk-label-container\"><div class=\"sk-label sk-toggleable\"><input class=\"sk-toggleable__control sk-hidden--visually\" id=\"sk-estimator-id-3\" type=\"checkbox\" ><label for=\"sk-estimator-id-3\" class=\"sk-toggleable__label sk-toggleable__label-arrow\">estimator: KNeighborsClassifier</label><div class=\"sk-toggleable__content\"><pre>KNeighborsClassifier()</pre></div></div></div><div class=\"sk-serial\"><div class=\"sk-item\"><div class=\"sk-estimator sk-toggleable\"><input class=\"sk-toggleable__control sk-hidden--visually\" id=\"sk-estimator-id-4\" type=\"checkbox\" ><label for=\"sk-estimator-id-4\" class=\"sk-toggleable__label sk-toggleable__label-arrow\">KNeighborsClassifier</label><div class=\"sk-toggleable__content\"><pre>KNeighborsClassifier()</pre></div></div></div></div></div></div></div></div></div></div>"
            ]
          },
          "metadata": {},
          "execution_count": 120
        }
      ]
    },
    {
      "cell_type": "code",
      "source": [
        "best_params = grid_search.best_params_\n",
        "best_score = grid_search.best_score_"
      ],
      "metadata": {
        "id": "ioxTJZuOTl_t"
      },
      "execution_count": 121,
      "outputs": []
    },
    {
      "cell_type": "code",
      "source": [
        "print(best_params, \" : \", best_score)"
      ],
      "metadata": {
        "colab": {
          "base_uri": "https://localhost:8080/"
        },
        "id": "clUk3QL50v4v",
        "outputId": "85e58d95-8c99-4dde-e4a3-355f6364bdf7"
      },
      "execution_count": 122,
      "outputs": [
        {
          "output_type": "stream",
          "name": "stdout",
          "text": [
            "{'n_neighbors': 7, 'weights': 'distance'}  :  0.9051339668088836\n"
          ]
        }
      ]
    },
    {
      "cell_type": "code",
      "source": [
        "best_model = grid_search.best_estimator_\n",
        "y_pred_knn_gscv = best_model.predict(X_test)"
      ],
      "metadata": {
        "id": "Fb_oHIw9TDFc"
      },
      "execution_count": 123,
      "outputs": []
    },
    {
      "cell_type": "code",
      "source": [
        "print(accuracy_score(y_test, y_pred_knn_gscv)*100)"
      ],
      "metadata": {
        "colab": {
          "base_uri": "https://localhost:8080/"
        },
        "id": "66gpFXLS0oI5",
        "outputId": "387f39e1-23bf-4f26-e8c1-84331ec5f35c"
      },
      "execution_count": 124,
      "outputs": [
        {
          "output_type": "stream",
          "name": "stdout",
          "text": [
            "91.52526124053303\n"
          ]
        }
      ]
    },
    {
      "cell_type": "code",
      "source": [
        "from sklearn.model_selection import learning_curve\n",
        "\n",
        "train_sizes, train_scores, test_scores = learning_curve(best_model, X_train, y_train, cv=5, scoring='accuracy', train_sizes=np.linspace(0.1, 1.0, 10))\n",
        "\n",
        "# Calculating the mean and standard deviation of train and test scores\n",
        "train_scores_mean = np.mean(train_scores, axis=1)\n",
        "train_scores_std = np.std(train_scores, axis=1)\n",
        "test_scores_mean = np.mean(test_scores, axis=1)\n",
        "test_scores_std = np.std(test_scores, axis=1)\n",
        "\n",
        "# Plot the learning curve\n",
        "plt.figure(figsize=(8, 6))\n",
        "plt.title(\"Learning Curve\")\n",
        "plt.xlabel(\"Training Examples\")\n",
        "plt.ylabel(\"Score\")\n",
        "plt.grid(True)\n",
        "plt.fill_between(train_sizes, train_scores_mean - train_scores_std, train_scores_mean + train_scores_std, alpha=0.1, color=\"r\")\n",
        "plt.fill_between(train_sizes, test_scores_mean - test_scores_std, test_scores_mean + test_scores_std, alpha=0.1, color=\"g\")\n",
        "plt.plot(train_sizes, train_scores_mean, 'o-', color=\"r\", label=\"Training Score\")\n",
        "plt.plot(train_sizes, test_scores_mean, 'o-', color=\"g\", label=\"Cross-validation Score\")\n",
        "plt.legend(loc=\"best\")\n",
        "plt.show()"
      ],
      "metadata": {
        "colab": {
          "base_uri": "https://localhost:8080/",
          "height": 564
        },
        "id": "et5STags4PVI",
        "outputId": "e46625d9-0b1a-41c9-d191-efbe4c664e09"
      },
      "execution_count": 136,
      "outputs": [
        {
          "output_type": "display_data",
          "data": {
            "text/plain": [
              "<Figure size 800x600 with 1 Axes>"
            ],
            "image/png": "[encoded data removed]"
          },
          "metadata": {}
        }
      ]
    },
    {
      "cell_type": "markdown",
      "source": [
        "#Random Forest"
      ],
      "metadata": {
        "id": "bHgK-R3x1SVG"
      }
    },
    {
      "cell_type": "code",
      "source": [
        "from sklearn.ensemble import RandomForestClassifier\n",
        "\n",
        "rf_model = RandomForestClassifier()"
      ],
      "metadata": {
        "id": "ev0b9nQu1FXv"
      },
      "execution_count": 126,
      "outputs": []
    },
    {
      "cell_type": "code",
      "source": [
        "rf_model.fit(X_train, y_train)"
      ],
      "metadata": {
        "colab": {
          "base_uri": "https://localhost:8080/",
          "height": 75
        },
        "outputId": "d37a0e2a-2d1f-4330-cbc6-51284c676742",
        "id": "7LuQoNhW1jaX"
      },
      "execution_count": 127,
      "outputs": [
        {
          "output_type": "execute_result",
          "data": {
            "text/plain": [
              "RandomForestClassifier()"
            ],
            "text/html": [
              "<style>#sk-container-id-3 {color: black;background-color: white;}#sk-container-id-3 pre{padding: 0;}#sk-container-id-3 div.sk-toggleable {background-color: white;}#sk-container-id-3 label.sk-toggleable__label {cursor: pointer;display: block;width: 100%;margin-bottom: 0;padding: 0.3em;box-sizing: border-box;text-align: center;}#sk-container-id-3 label.sk-toggleable__label-arrow:before {content: \"▸\";float: left;margin-right: 0.25em;color: #696969;}#sk-container-id-3 label.sk-toggleable__label-arrow:hover:before {color: black;}#sk-container-id-3 div.sk-estimator:hover label.sk-toggleable__label-arrow:before {color: black;}#sk-container-id-3 div.sk-toggleable__content {max-height: 0;max-width: 0;overflow: hidden;text-align: left;background-color: #f0f8ff;}#sk-container-id-3 div.sk-toggleable__content pre {margin: 0.2em;color: black;border-radius: 0.25em;background-color: #f0f8ff;}#sk-container-id-3 input.sk-toggleable__control:checked~div.sk-toggleable__content {max-height: 200px;max-width: 100%;overflow: auto;}#sk-container-id-3 input.sk-toggleable__control:checked~label.sk-toggleable__label-arrow:before {content: \"▾\";}#sk-container-id-3 div.sk-estimator input.sk-toggleable__control:checked~label.sk-toggleable__label {background-color: #d4ebff;}#sk-container-id-3 div.sk-label input.sk-toggleable__control:checked~label.sk-toggleable__label {background-color: #d4ebff;}#sk-container-id-3 input.sk-hidden--visually {border: 0;clip: rect(1px 1px 1px 1px);clip: rect(1px, 1px, 1px, 1px);height: 1px;margin: -1px;overflow: hidden;padding: 0;position: absolute;width: 1px;}#sk-container-id-3 div.sk-estimator {font-family: monospace;background-color: #f0f8ff;border: 1px dotted black;border-radius: 0.25em;box-sizing: border-box;margin-bottom: 0.5em;}#sk-container-id-3 div.sk-estimator:hover {background-color: #d4ebff;}#sk-container-id-3 div.sk-parallel-item::after {content: \"\";width: 100%;border-bottom: 1px solid gray;flex-grow: 1;}#sk-container-id-3 div.sk-label:hover label.sk-toggleable__label {background-color: #d4ebff;}#sk-container-id-3 div.sk-serial::before {content: \"\";position: absolute;border-left: 1px solid gray;box-sizing: border-box;top: 0;bottom: 0;left: 50%;z-index: 0;}#sk-container-id-3 div.sk-serial {display: flex;flex-direction: column;align-items: center;background-color: white;padding-right: 0.2em;padding-left: 0.2em;position: relative;}#sk-container-id-3 div.sk-item {position: relative;z-index: 1;}#sk-container-id-3 div.sk-parallel {display: flex;align-items: stretch;justify-content: center;background-color: white;position: relative;}#sk-container-id-3 div.sk-item::before, #sk-container-id-3 div.sk-parallel-item::before {content: \"\";position: absolute;border-left: 1px solid gray;box-sizing: border-box;top: 0;bottom: 0;left: 50%;z-index: -1;}#sk-container-id-3 div.sk-parallel-item {display: flex;flex-direction: column;z-index: 1;position: relative;background-color: white;}#sk-container-id-3 div.sk-parallel-item:first-child::after {align-self: flex-end;width: 50%;}#sk-container-id-3 div.sk-parallel-item:last-child::after {align-self: flex-start;width: 50%;}#sk-container-id-3 div.sk-parallel-item:only-child::after {width: 0;}#sk-container-id-3 div.sk-dashed-wrapped {border: 1px dashed gray;margin: 0 0.4em 0.5em 0.4em;box-sizing: border-box;padding-bottom: 0.4em;background-color: white;}#sk-container-id-3 div.sk-label label {font-family: monospace;font-weight: bold;display: inline-block;line-height: 1.2em;}#sk-container-id-3 div.sk-label-container {text-align: center;}#sk-container-id-3 div.sk-container {/* jupyter's `normalize.less` sets `[hidden] { display: none; }` but bootstrap.min.css set `[hidden] { display: none !important; }` so we also need the `!important` here to be able to override the default hidden behavior on the sphinx rendered scikit-learn.org. See: https://github.com/scikit-learn/scikit-learn/issues/21755 */display: inline-block !important;position: relative;}#sk-container-id-3 div.sk-text-repr-fallback {display: none;}</style><div id=\"sk-container-id-3\" class=\"sk-top-container\"><div class=\"sk-text-repr-fallback\"><pre>RandomForestClassifier()</pre><b>In a Jupyter environment, please rerun this cell to show the HTML representation or trust the notebook. <br />On GitHub, the HTML representation is unable to render, please try loading this page with nbviewer.org.</b></div><div class=\"sk-container\" hidden><div class=\"sk-item\"><div class=\"sk-estimator sk-toggleable\"><input class=\"sk-toggleable__control sk-hidden--visually\" id=\"sk-estimator-id-5\" type=\"checkbox\" checked><label for=\"sk-estimator-id-5\" class=\"sk-toggleable__label sk-toggleable__label-arrow\">RandomForestClassifier</label><div class=\"sk-toggleable__content\"><pre>RandomForestClassifier()</pre></div></div></div></div></div>"
            ]
          },
          "metadata": {},
          "execution_count": 127
        }
      ]
    },
    {
      "cell_type": "code",
      "source": [
        "y_pred = rf_model.predict(X_test)"
      ],
      "metadata": {
        "id": "7vN0RQwV1jaY"
      },
      "execution_count": 128,
      "outputs": []
    },
    {
      "cell_type": "code",
      "source": [
        "from sklearn.metrics import accuracy_score\n",
        "print(accuracy_score(y_test, y_pred)*100)"
      ],
      "metadata": {
        "colab": {
          "base_uri": "https://localhost:8080/"
        },
        "outputId": "9c50bf0c-2664-4da9-f7c3-eaf9b1dca75b",
        "id": "Gk-pxuDc1jaY"
      },
      "execution_count": 129,
      "outputs": [
        {
          "output_type": "stream",
          "name": "stdout",
          "text": [
            "97.62247147924455\n"
          ]
        }
      ]
    },
    {
      "cell_type": "code",
      "source": [
        "param_grid = {\n",
        "    'n_estimators': [100, 200, 500],\n",
        "    'max_depth': [None, 5, 10],\n",
        "    'min_samples_split': [2, 5, 10]\n",
        "}\n",
        "\n",
        "\n",
        "grid_search = GridSearchCV(rf_model, param_grid, cv=5)"
      ],
      "metadata": {
        "id": "_CePpRoo1jaY"
      },
      "execution_count": 130,
      "outputs": []
    },
    {
      "cell_type": "code",
      "source": [
        "grid_search.fit(X_train, y_train)"
      ],
      "metadata": {
        "colab": {
          "base_uri": "https://localhost:8080/",
          "height": 118
        },
        "outputId": "6f9eaf60-998f-4654-a456-63cbd17e4bc4",
        "id": "OyuCqDdr1jaZ"
      },
      "execution_count": 131,
      "outputs": [
        {
          "output_type": "execute_result",
          "data": {
            "text/plain": [
              "GridSearchCV(cv=5, estimator=RandomForestClassifier(),\n",
              "             param_grid={'max_depth': [None, 5, 10],\n",
              "                         'min_samples_split': [2, 5, 10],\n",
              "                         'n_estimators': [100, 200, 500]})"
            ],
            "text/html": [
              "<style>#sk-container-id-4 {color: black;background-color: white;}#sk-container-id-4 pre{padding: 0;}#sk-container-id-4 div.sk-toggleable {background-color: white;}#sk-container-id-4 label.sk-toggleable__label {cursor: pointer;display: block;width: 100%;margin-bottom: 0;padding: 0.3em;box-sizing: border-box;text-align: center;}#sk-container-id-4 label.sk-toggleable__label-arrow:before {content: \"▸\";float: left;margin-right: 0.25em;color: #696969;}#sk-container-id-4 label.sk-toggleable__label-arrow:hover:before {color: black;}#sk-container-id-4 div.sk-estimator:hover label.sk-toggleable__label-arrow:before {color: black;}#sk-container-id-4 div.sk-toggleable__content {max-height: 0;max-width: 0;overflow: hidden;text-align: left;background-color: #f0f8ff;}#sk-container-id-4 div.sk-toggleable__content pre {margin: 0.2em;color: black;border-radius: 0.25em;background-color: #f0f8ff;}#sk-container-id-4 input.sk-toggleable__control:checked~div.sk-toggleable__content {max-height: 200px;max-width: 100%;overflow: auto;}#sk-container-id-4 input.sk-toggleable__control:checked~label.sk-toggleable__label-arrow:before {content: \"▾\";}#sk-container-id-4 div.sk-estimator input.sk-toggleable__control:checked~label.sk-toggleable__label {background-color: #d4ebff;}#sk-container-id-4 div.sk-label input.sk-toggleable__control:checked~label.sk-toggleable__label {background-color: #d4ebff;}#sk-container-id-4 input.sk-hidden--visually {border: 0;clip: rect(1px 1px 1px 1px);clip: rect(1px, 1px, 1px, 1px);height: 1px;margin: -1px;overflow: hidden;padding: 0;position: absolute;width: 1px;}#sk-container-id-4 div.sk-estimator {font-family: monospace;background-color: #f0f8ff;border: 1px dotted black;border-radius: 0.25em;box-sizing: border-box;margin-bottom: 0.5em;}#sk-container-id-4 div.sk-estimator:hover {background-color: #d4ebff;}#sk-container-id-4 div.sk-parallel-item::after {content: \"\";width: 100%;border-bottom: 1px solid gray;flex-grow: 1;}#sk-container-id-4 div.sk-label:hover label.sk-toggleable__label {background-color: #d4ebff;}#sk-container-id-4 div.sk-serial::before {content: \"\";position: absolute;border-left: 1px solid gray;box-sizing: border-box;top: 0;bottom: 0;left: 50%;z-index: 0;}#sk-container-id-4 div.sk-serial {display: flex;flex-direction: column;align-items: center;background-color: white;padding-right: 0.2em;padding-left: 0.2em;position: relative;}#sk-container-id-4 div.sk-item {position: relative;z-index: 1;}#sk-container-id-4 div.sk-parallel {display: flex;align-items: stretch;justify-content: center;background-color: white;position: relative;}#sk-container-id-4 div.sk-item::before, #sk-container-id-4 div.sk-parallel-item::before {content: \"\";position: absolute;border-left: 1px solid gray;box-sizing: border-box;top: 0;bottom: 0;left: 50%;z-index: -1;}#sk-container-id-4 div.sk-parallel-item {display: flex;flex-direction: column;z-index: 1;position: relative;background-color: white;}#sk-container-id-4 div.sk-parallel-item:first-child::after {align-self: flex-end;width: 50%;}#sk-container-id-4 div.sk-parallel-item:last-child::after {align-self: flex-start;width: 50%;}#sk-container-id-4 div.sk-parallel-item:only-child::after {width: 0;}#sk-container-id-4 div.sk-dashed-wrapped {border: 1px dashed gray;margin: 0 0.4em 0.5em 0.4em;box-sizing: border-box;padding-bottom: 0.4em;background-color: white;}#sk-container-id-4 div.sk-label label {font-family: monospace;font-weight: bold;display: inline-block;line-height: 1.2em;}#sk-container-id-4 div.sk-label-container {text-align: center;}#sk-container-id-4 div.sk-container {/* jupyter's `normalize.less` sets `[hidden] { display: none; }` but bootstrap.min.css set `[hidden] { display: none !important; }` so we also need the `!important` here to be able to override the default hidden behavior on the sphinx rendered scikit-learn.org. See: https://github.com/scikit-learn/scikit-learn/issues/21755 */display: inline-block !important;position: relative;}#sk-container-id-4 div.sk-text-repr-fallback {display: none;}</style><div id=\"sk-container-id-4\" class=\"sk-top-container\"><div class=\"sk-text-repr-fallback\"><pre>GridSearchCV(cv=5, estimator=RandomForestClassifier(),\n",
              "             param_grid={&#x27;max_depth&#x27;: [None, 5, 10],\n",
              "                         &#x27;min_samples_split&#x27;: [2, 5, 10],\n",
              "                         &#x27;n_estimators&#x27;: [100, 200, 500]})</pre><b>In a Jupyter environment, please rerun this cell to show the HTML representation or trust the notebook. <br />On GitHub, the HTML representation is unable to render, please try loading this page with nbviewer.org.</b></div><div class=\"sk-container\" hidden><div class=\"sk-item sk-dashed-wrapped\"><div class=\"sk-label-container\"><div class=\"sk-label sk-toggleable\"><input class=\"sk-toggleable__control sk-hidden--visually\" id=\"sk-estimator-id-6\" type=\"checkbox\" ><label for=\"sk-estimator-id-6\" class=\"sk-toggleable__label sk-toggleable__label-arrow\">GridSearchCV</label><div class=\"sk-toggleable__content\"><pre>GridSearchCV(cv=5, estimator=RandomForestClassifier(),\n",
              "             param_grid={&#x27;max_depth&#x27;: [None, 5, 10],\n",
              "                         &#x27;min_samples_split&#x27;: [2, 5, 10],\n",
              "                         &#x27;n_estimators&#x27;: [100, 200, 500]})</pre></div></div></div><div class=\"sk-parallel\"><div class=\"sk-parallel-item\"><div class=\"sk-item\"><div class=\"sk-label-container\"><div class=\"sk-label sk-toggleable\"><input class=\"sk-toggleable__control sk-hidden--visually\" id=\"sk-estimator-id-7\" type=\"checkbox\" ><label for=\"sk-estimator-id-7\" class=\"sk-toggleable__label sk-toggleable__label-arrow\">estimator: RandomForestClassifier</label><div class=\"sk-toggleable__content\"><pre>RandomForestClassifier()</pre></div></div></div><div class=\"sk-serial\"><div class=\"sk-item\"><div class=\"sk-estimator sk-toggleable\"><input class=\"sk-toggleable__control sk-hidden--visually\" id=\"sk-estimator-id-8\" type=\"checkbox\" ><label for=\"sk-estimator-id-8\" class=\"sk-toggleable__label sk-toggleable__label-arrow\">RandomForestClassifier</label><div class=\"sk-toggleable__content\"><pre>RandomForestClassifier()</pre></div></div></div></div></div></div></div></div></div></div>"
            ]
          },
          "metadata": {},
          "execution_count": 131
        }
      ]
    },
    {
      "cell_type": "code",
      "source": [
        "best_params = grid_search.best_params_\n",
        "best_score = grid_search.best_score_"
      ],
      "metadata": {
        "id": "7ShVGoHs1jaZ"
      },
      "execution_count": 132,
      "outputs": []
    },
    {
      "cell_type": "code",
      "source": [
        "print(best_params, \" : \", best_score)"
      ],
      "metadata": {
        "colab": {
          "base_uri": "https://localhost:8080/"
        },
        "outputId": "343dba2f-c0be-4c73-dbd0-a1e3c8bba678",
        "id": "Ni1Dr6ls1jaZ"
      },
      "execution_count": 133,
      "outputs": [
        {
          "output_type": "stream",
          "name": "stdout",
          "text": [
            "{'max_depth': None, 'min_samples_split': 2, 'n_estimators': 200}  :  0.9725564966477421\n"
          ]
        }
      ]
    },
    {
      "cell_type": "code",
      "source": [
        "best_model = grid_search.best_estimator_\n",
        "y_pred_rf_gscv = best_model.predict(X_test)"
      ],
      "metadata": {
        "id": "8zG4bdpz1jaZ"
      },
      "execution_count": 134,
      "outputs": []
    },
    {
      "cell_type": "code",
      "source": [
        "print(accuracy_score(y_test, y_pred_rf_gscv)*100)"
      ],
      "metadata": {
        "colab": {
          "base_uri": "https://localhost:8080/"
        },
        "outputId": "1e78007b-ac70-4c5e-dfa5-bde4c4942637",
        "id": "apdQNeRN1jaa"
      },
      "execution_count": 135,
      "outputs": [
        {
          "output_type": "stream",
          "name": "stdout",
          "text": [
            "97.67040552200173\n"
          ]
        }
      ]
    },
    {
      "cell_type": "code",
      "source": [
        "from sklearn.model_selection import learning_curve\n",
        "\n",
        "train_sizes, train_scores, test_scores = learning_curve(best_model, X_train, y_train, cv=5, scoring='accuracy', train_sizes=np.linspace(0.1, 1.0, 10))\n",
        "\n",
        "# Calculating the mean and standard deviation of train and test scores\n",
        "train_scores_mean = np.mean(train_scores, axis=1)\n",
        "train_scores_std = np.std(train_scores, axis=1)\n",
        "test_scores_mean = np.mean(test_scores, axis=1)\n",
        "test_scores_std = np.std(test_scores, axis=1)\n",
        "\n",
        "# Plot the learning curve\n",
        "plt.figure(figsize=(8, 6))\n",
        "plt.title(\"Learning Curve\")\n",
        "plt.xlabel(\"Training Examples\")\n",
        "plt.ylabel(\"Score\")\n",
        "plt.grid(True)\n",
        "plt.fill_between(train_sizes, train_scores_mean - train_scores_std, train_scores_mean + train_scores_std, alpha=0.1, color=\"r\")\n",
        "plt.fill_between(train_sizes, test_scores_mean - test_scores_std, test_scores_mean + test_scores_std, alpha=0.1, color=\"g\")\n",
        "plt.plot(train_sizes, train_scores_mean, 'o-', color=\"r\", label=\"Training Score\")\n",
        "plt.plot(train_sizes, test_scores_mean, 'o-', color=\"g\", label=\"Cross-validation Score\")\n",
        "plt.legend(loc=\"best\")\n",
        "plt.show()"
      ],
      "metadata": {
        "colab": {
          "base_uri": "https://localhost:8080/",
          "height": 564
        },
        "id": "Jynz6JMz1Fep",
        "outputId": "a7965798-1276-49b1-c919-75cfd6d78b0e"
      },
      "execution_count": 137,
      "outputs": [
        {
          "output_type": "display_data",
          "data": {
            "text/plain": [
              "<Figure size 800x600 with 1 Axes>"
            ],
            "image/png": "[encoded data removed]"
          },
          "metadata": {}
        }
      ]
    },
    {
      "cell_type": "code",
      "source": [],
      "metadata": {
        "id": "2aFqY5eo1FiK"
      },
      "execution_count": null,
      "outputs": []
    },
    {
      "cell_type": "code",
      "source": [],
      "metadata": {
        "id": "eDjuOjJQ1Ftx"
      },
      "execution_count": null,
      "outputs": []
    },
    {
      "cell_type": "code",
      "source": [],
      "metadata": {
        "id": "w_vc3KJE1Fwy"
      },
      "execution_count": null,
      "outputs": []
    },
    {
      "cell_type": "code",
      "source": [],
      "metadata": {
        "id": "NbhUEhh61F0D"
      },
      "execution_count": null,
      "outputs": []
    },
    {
      "cell_type": "code",
      "source": [],
      "metadata": {
        "id": "WmY9wy9c1F3W"
      },
      "execution_count": null,
      "outputs": []
    }
  ]
}